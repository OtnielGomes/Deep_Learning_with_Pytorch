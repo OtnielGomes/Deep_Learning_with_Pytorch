{
  "nbformat": 4,
  "nbformat_minor": 0,
  "metadata": {
    "colab": {
      "provenance": [],
      "toc_visible": true,
      "gpuType": "T4"
    },
    "kernelspec": {
      "name": "python3",
      "display_name": "Python 3"
    },
    "language_info": {
      "name": "python"
    },
    "accelerator": "GPU"
  },
  "cells": [
    {
      "cell_type": "markdown",
      "source": [
        "## Quickstart Pytorch"
      ],
      "metadata": {
        "id": "Y3WB9jUJvzCy"
      }
    },
    {
      "cell_type": "markdown",
      "source": [
        "## Installs:"
      ],
      "metadata": {
        "id": "IYfpbhxJv56v"
      }
    },
    {
      "cell_type": "code",
      "source": [
        "# ! pip installs torch"
      ],
      "metadata": {
        "id": "DGry5bs_v8Um"
      },
      "execution_count": 23,
      "outputs": []
    },
    {
      "cell_type": "markdown",
      "source": [
        "# Imports:"
      ],
      "metadata": {
        "id": "LVHIt6BFv3Y6"
      }
    },
    {
      "cell_type": "code",
      "execution_count": 24,
      "metadata": {
        "id": "7RDPDVyVvWH0"
      },
      "outputs": [],
      "source": [
        "# Pytorch\n",
        "import torch # Pytorch\n",
        "from torch import nn as nn # Neural Networks\n",
        "from torch.utils.data import DataLoader # DataLoader Pytorch\n",
        "from torchvision import datasets # Datasets in Pytorch\n",
        "from torchvision.transforms import ToTensor # ToTensor Pytorch\n",
        "from torch import optim  as optim # Optimizer\n",
        "\n",
        "# Matplotlib\n",
        "import matplotlib.pyplot as plt # Graphics for metrics\n",
        "\n",
        "# Warnings\n",
        "import warnings # Warnings"
      ]
    },
    {
      "cell_type": "markdown",
      "source": [
        "## Configs:"
      ],
      "metadata": {
        "id": "lKtq1Z8-MgsB"
      }
    },
    {
      "cell_type": "code",
      "source": [
        "\n",
        "# Warnings\n",
        "warnings.filterwarnings(\"ignore\")"
      ],
      "metadata": {
        "id": "HnHfAA41I4WP"
      },
      "execution_count": 25,
      "outputs": []
    },
    {
      "cell_type": "markdown",
      "source": [
        "# Parameters and Hyperparameters"
      ],
      "metadata": {
        "id": "q2aeuKetydxR"
      }
    },
    {
      "cell_type": "code",
      "source": [
        "# Dictionary to store parameters and hyperparameters\n",
        "args = {\n",
        "    'device': 'cuda' if torch.cuda.is_available() else 'mps' if torch.backends.mps.is_available() else 'cpu',\n",
        "    'lr': 1e-4,\n",
        "    'weight_decay': 5e-4,\n",
        "    'batch_size': 64,\n",
        "    'num_workers': 2,\n",
        "    'num_epochs': 30,\n",
        "}\n",
        "\n",
        "args"
      ],
      "metadata": {
        "colab": {
          "base_uri": "https://localhost:8080/",
          "height": 0
        },
        "id": "4lXEEo6tyrrv",
        "outputId": "f86d3bb4-8dcd-4c14-c7d3-00a8fd00e5ba"
      },
      "execution_count": 26,
      "outputs": [
        {
          "output_type": "execute_result",
          "data": {
            "text/plain": [
              "{'device': 'cuda',\n",
              " 'lr': 0.0001,\n",
              " 'weight_decay': 0.0005,\n",
              " 'batch_size': 64,\n",
              " 'num_workers': 2,\n",
              " 'num_epochs': 30}"
            ]
          },
          "metadata": {},
          "execution_count": 26
        }
      ]
    },
    {
      "cell_type": "markdown",
      "source": [
        "## Device"
      ],
      "metadata": {
        "id": "IQUBHeOF0Qoz"
      }
    },
    {
      "cell_type": "code",
      "source": [
        "# Checking Device\n",
        "print(f'Using {args[\"device\"]} device')"
      ],
      "metadata": {
        "colab": {
          "base_uri": "https://localhost:8080/",
          "height": 0
        },
        "id": "SvaecDbk0SoR",
        "outputId": "b0b59d2f-c04d-42fa-d3e5-d2ef7c6da7e7"
      },
      "execution_count": 27,
      "outputs": [
        {
          "output_type": "stream",
          "name": "stdout",
          "text": [
            "Using cuda device\n"
          ]
        }
      ]
    },
    {
      "cell_type": "markdown",
      "source": [
        "## Working with data"
      ],
      "metadata": {
        "id": "0TxQdr_dwgUb"
      }
    },
    {
      "cell_type": "code",
      "source": [
        "# Download Training data\n",
        "training_data = datasets.FashionMNIST(\n",
        "    root = 'data',\n",
        "    train = True,\n",
        "    download = True,\n",
        "    transform = ToTensor()\n",
        ")"
      ],
      "metadata": {
        "id": "b5xU0eTMwHwc"
      },
      "execution_count": 28,
      "outputs": []
    },
    {
      "cell_type": "code",
      "source": [
        "# Download Validation data\n",
        "validation_data = datasets.FashionMNIST(\n",
        "    root = 'data',\n",
        "    train = False,\n",
        "    download = True,\n",
        "    transform = ToTensor()\n",
        ")"
      ],
      "metadata": {
        "id": "CLjRhBaLx9rk"
      },
      "execution_count": 29,
      "outputs": []
    },
    {
      "cell_type": "markdown",
      "source": [
        "## DataLoader"
      ],
      "metadata": {
        "id": "2ODXLnKLm9zq"
      }
    },
    {
      "cell_type": "code",
      "source": [
        "# Defining DataLoader\n",
        "train_dataloader = DataLoader(\n",
        "    dataset = training_data,\n",
        "    batch_size = args['batch_size'],\n",
        "    num_workers = args['num_workers']\n",
        ")\n",
        "\n",
        "validation_dataloader = DataLoader(\n",
        "    dataset = validation_data,\n",
        "    batch_size = args['batch_size'],\n",
        "    num_workers = args['num_workers']\n",
        ")"
      ],
      "metadata": {
        "id": "kWoEqENCm_-T"
      },
      "execution_count": 30,
      "outputs": []
    },
    {
      "cell_type": "code",
      "source": [
        "# Vizualing DataLoader\n",
        "for X, y in train_dataloader:\n",
        "    print(f'Shape of X [N, C, H, W]: {X.shape}')\n",
        "    print(f'Shape of y: {y.shape} {y.dtype}')\n",
        "    break"
      ],
      "metadata": {
        "colab": {
          "base_uri": "https://localhost:8080/",
          "height": 0
        },
        "id": "5XJ_6Ciuog9U",
        "outputId": "dc41fda7-3030-4ebe-e66a-88ecfbdf24db"
      },
      "execution_count": 31,
      "outputs": [
        {
          "output_type": "stream",
          "name": "stdout",
          "text": [
            "Shape of X [N, C, H, W]: torch.Size([64, 1, 28, 28])\n",
            "Shape of y: torch.Size([64]) torch.int64\n"
          ]
        }
      ]
    },
    {
      "cell_type": "markdown",
      "source": [
        "## Model"
      ],
      "metadata": {
        "id": "w_Cpe18z0sTL"
      }
    },
    {
      "cell_type": "code",
      "source": [
        "# Defining model\n",
        "class NeuralNetwork(nn.Module):\n",
        "\n",
        "    def __init__(self):\n",
        "        super().__init__()\n",
        "\n",
        "        # Creates a layer that transforms the input (a 2D image) into a 1D vector.\n",
        "        self.flatten = nn.Flatten()\n",
        "\n",
        "        # Sequence of linear layers (total of three layers).\n",
        "        self.linear_relu_stack = nn.Sequential(\n",
        "            nn.Linear(28 * 28, 512),\n",
        "            nn.ReLU(),\n",
        "            nn.Linear(512, 512),\n",
        "            nn.ReLU(),\n",
        "            nn.Linear(512, 10)\n",
        "        )\n",
        "\n",
        "    def forward(self, X):\n",
        "        X = self.flatten(X)\n",
        "        logits = self.linear_relu_stack(X)\n",
        "\n",
        "        return logits\n",
        "\n",
        "model = NeuralNetwork().to(args['device']) # Cast Network in Device\n",
        "print(model)"
      ],
      "metadata": {
        "colab": {
          "base_uri": "https://localhost:8080/",
          "height": 0
        },
        "id": "MzFxZqi2yZLo",
        "outputId": "e9ca10fe-62a4-4f6b-9944-fc6c9e2b0ab1"
      },
      "execution_count": 32,
      "outputs": [
        {
          "output_type": "stream",
          "name": "stdout",
          "text": [
            "NeuralNetwork(\n",
            "  (flatten): Flatten(start_dim=1, end_dim=-1)\n",
            "  (linear_relu_stack): Sequential(\n",
            "    (0): Linear(in_features=784, out_features=512, bias=True)\n",
            "    (1): ReLU()\n",
            "    (2): Linear(in_features=512, out_features=512, bias=True)\n",
            "    (3): ReLU()\n",
            "    (4): Linear(in_features=512, out_features=10, bias=True)\n",
            "  )\n",
            ")\n"
          ]
        }
      ]
    },
    {
      "cell_type": "markdown",
      "source": [
        "## Loss"
      ],
      "metadata": {
        "id": "YgTTMshR3z9I"
      }
    },
    {
      "cell_type": "code",
      "source": [
        "loss_fn = nn.CrossEntropyLoss().to(args['device'])"
      ],
      "metadata": {
        "id": "PI5zRWiEzFd6"
      },
      "execution_count": 33,
      "outputs": []
    },
    {
      "cell_type": "markdown",
      "source": [
        "## Optimizer"
      ],
      "metadata": {
        "id": "KAWqQA5W3_VC"
      }
    },
    {
      "cell_type": "code",
      "source": [
        "optimizer = optim.Adam(model.parameters(), lr = args['lr'], weight_decay = args['weight_decay'])"
      ],
      "metadata": {
        "id": "tFBpqM_z3-ro"
      },
      "execution_count": 34,
      "outputs": []
    },
    {
      "cell_type": "markdown",
      "source": [
        "## Training Flow"
      ],
      "metadata": {
        "id": "QyI22IVQqXCq"
      }
    },
    {
      "cell_type": "code",
      "source": [
        "def train(dataloader, model, loss_fn, optimizer):\n",
        "\n",
        "    # Size dataset training\n",
        "    size = len(dataloader.dataset)\n",
        "\n",
        "    # Count numbers batch\n",
        "    num_batches = len(dataloader)\n",
        "\n",
        "    # List of Metrics\n",
        "    train_loss, correct = 0, 0\n",
        "\n",
        "    # Defining the model for training\n",
        "    model.train()\n",
        "\n",
        "    # Separating data from labels\n",
        "    for batch, (X, y) in enumerate(dataloader):\n",
        "        X, y = X.to(args['device']), y.to(args['device'])\n",
        "\n",
        "        # Compute prediction error\n",
        "        pred = model(X)\n",
        "        loss = loss_fn(pred, y)\n",
        "\n",
        "        # Backpropagation\n",
        "        loss.backward()\n",
        "        optimizer.step()\n",
        "        optimizer.zero_grad()\n",
        "\n",
        "        # Storing errors and successes in variables\n",
        "        train_loss += loss.item()\n",
        "        correct += (pred.argmax(1) == y).type(torch.float).sum().item()\n",
        "\n",
        "        # Generating an output to follow the batch training\n",
        "        if batch % 100 == 0:\n",
        "            loss, current = loss.item(), batch * len(X)\n",
        "            print(f'Loss: {loss:>7f} [{current:>5d}/{size:>5d}]')\n",
        "\n",
        "    # Average Loss and Accuracy for an epoch\n",
        "    train_loss /= num_batches\n",
        "    correct /= size\n",
        "\n",
        "    print(f'\\nTrain Metrics: \\nAccuracy: {(100*correct):>0.1f}%, AVG Loss: {train_loss:>8f} \\n')\n",
        "\n",
        "    return train_loss, correct"
      ],
      "metadata": {
        "id": "De4n6bJ64dQk"
      },
      "execution_count": 35,
      "outputs": []
    },
    {
      "cell_type": "code",
      "source": [
        "def validation(dataloader, model, loss_fn):\n",
        "\n",
        "    # Size dataset training\n",
        "    size = len(dataloader.dataset)\n",
        "\n",
        "    # Count numbers batch\n",
        "    num_batches = len(dataloader)\n",
        "\n",
        "    # List of Metrics\n",
        "    val_loss, correct = 0, 0\n",
        "\n",
        "    # Defining the model for Validation\n",
        "    model.eval()\n",
        "\n",
        "    # Disabling the gradient calculation engine in PyTorch\n",
        "    with torch.no_grad():\n",
        "\n",
        "        # Separating data from labels\n",
        "        for X, y in (dataloader):\n",
        "            X, y = X.to(args['device']), y.to(args['device'])\n",
        "\n",
        "            # Compute prediction error\n",
        "            pred = model(X)\n",
        "\n",
        "            # Generating an output to follow the batch training\n",
        "            val_loss += loss_fn(pred, y).item()\n",
        "            correct += (pred.argmax(1) == y).type(torch.float).sum().item()\n",
        "\n",
        "    # Average Loss and Accuracy for an epoch\n",
        "    val_loss /= num_batches\n",
        "    correct /= size\n",
        "\n",
        "    print(f'Validation Metrics: \\nAccuracy: {(100*correct):>0.1f}%, AVG Loss: {val_loss:>8f} \\n')\n",
        "\n",
        "    return val_loss, correct"
      ],
      "metadata": {
        "id": "uLIUML56qy7N"
      },
      "execution_count": 36,
      "outputs": []
    },
    {
      "cell_type": "code",
      "source": [
        "train_loss, validation_loss = [], []\n",
        "train_acc, validation_acc = [], []\n",
        "\n",
        "for t in range(args['num_epochs']):\n",
        "    print(f'Epoch {t + 1}\\n-------------------------------')\n",
        "\n",
        "    loss, acc = train(train_dataloader, model, loss_fn, optimizer)\n",
        "    train_loss.append(loss)\n",
        "    train_acc.append(acc)\n",
        "\n",
        "    loss, acc = validation(validation_dataloader, model, loss_fn)\n",
        "    validation_loss.append(loss)\n",
        "    validation_acc.append(acc)\n",
        "print('Done!')"
      ],
      "metadata": {
        "colab": {
          "base_uri": "https://localhost:8080/",
          "height": 0
        },
        "id": "zXvcVWrdq5W1",
        "outputId": "df536db0-c285-457e-9e40-bcdc13e4bdf6"
      },
      "execution_count": 37,
      "outputs": [
        {
          "output_type": "stream",
          "name": "stdout",
          "text": [
            "Epoch 1\n",
            "-------------------------------\n",
            "Loss: 2.304525 [    0/60000]\n",
            "Loss: 1.025547 [ 6400/60000]\n",
            "Loss: 0.564775 [12800/60000]\n",
            "Loss: 0.745015 [19200/60000]\n",
            "Loss: 0.597545 [25600/60000]\n",
            "Loss: 0.518488 [32000/60000]\n",
            "Loss: 0.517433 [38400/60000]\n",
            "Loss: 0.667649 [44800/60000]\n",
            "Loss: 0.617448 [51200/60000]\n",
            "Loss: 0.483481 [57600/60000]\n",
            "\n",
            "Train Metrics: \n",
            "Accuracy: 78.1%, AVG Loss: 0.673857 \n",
            "\n",
            "Validation Metrics: \n",
            "Accuracy: 82.2%, AVG Loss: 0.497004 \n",
            "\n",
            "Epoch 2\n",
            "-------------------------------\n",
            "Loss: 0.378137 [    0/60000]\n",
            "Loss: 0.499660 [ 6400/60000]\n",
            "Loss: 0.347841 [12800/60000]\n",
            "Loss: 0.540999 [19200/60000]\n",
            "Loss: 0.432466 [25600/60000]\n",
            "Loss: 0.428750 [32000/60000]\n",
            "Loss: 0.405147 [38400/60000]\n",
            "Loss: 0.608216 [44800/60000]\n",
            "Loss: 0.559660 [51200/60000]\n",
            "Loss: 0.423021 [57600/60000]\n",
            "\n",
            "Train Metrics: \n",
            "Accuracy: 84.6%, AVG Loss: 0.440172 \n",
            "\n",
            "Validation Metrics: \n",
            "Accuracy: 84.3%, AVG Loss: 0.442060 \n",
            "\n",
            "Epoch 3\n",
            "-------------------------------\n",
            "Loss: 0.292470 [    0/60000]\n",
            "Loss: 0.428278 [ 6400/60000]\n",
            "Loss: 0.297287 [12800/60000]\n",
            "Loss: 0.485076 [19200/60000]\n",
            "Loss: 0.366784 [25600/60000]\n",
            "Loss: 0.401348 [32000/60000]\n",
            "Loss: 0.373562 [38400/60000]\n",
            "Loss: 0.567576 [44800/60000]\n",
            "Loss: 0.526366 [51200/60000]\n",
            "Loss: 0.406286 [57600/60000]\n",
            "\n",
            "Train Metrics: \n",
            "Accuracy: 86.0%, AVG Loss: 0.399588 \n",
            "\n",
            "Validation Metrics: \n",
            "Accuracy: 85.0%, AVG Loss: 0.416929 \n",
            "\n",
            "Epoch 4\n",
            "-------------------------------\n",
            "Loss: 0.263869 [    0/60000]\n",
            "Loss: 0.393929 [ 6400/60000]\n",
            "Loss: 0.270498 [12800/60000]\n",
            "Loss: 0.451885 [19200/60000]\n",
            "Loss: 0.334460 [25600/60000]\n",
            "Loss: 0.381998 [32000/60000]\n",
            "Loss: 0.354162 [38400/60000]\n",
            "Loss: 0.540106 [44800/60000]\n",
            "Loss: 0.494843 [51200/60000]\n",
            "Loss: 0.398674 [57600/60000]\n",
            "\n",
            "Train Metrics: \n",
            "Accuracy: 86.8%, AVG Loss: 0.374913 \n",
            "\n",
            "Validation Metrics: \n",
            "Accuracy: 85.7%, AVG Loss: 0.401130 \n",
            "\n",
            "Epoch 5\n",
            "-------------------------------\n",
            "Loss: 0.247499 [    0/60000]\n",
            "Loss: 0.368361 [ 6400/60000]\n",
            "Loss: 0.248644 [12800/60000]\n",
            "Loss: 0.425403 [19200/60000]\n",
            "Loss: 0.315815 [25600/60000]\n",
            "Loss: 0.364334 [32000/60000]\n",
            "Loss: 0.334837 [38400/60000]\n",
            "Loss: 0.517861 [44800/60000]\n",
            "Loss: 0.472949 [51200/60000]\n",
            "Loss: 0.390997 [57600/60000]\n",
            "\n",
            "Train Metrics: \n",
            "Accuracy: 87.4%, AVG Loss: 0.356762 \n",
            "\n",
            "Validation Metrics: \n",
            "Accuracy: 86.1%, AVG Loss: 0.389651 \n",
            "\n",
            "Epoch 6\n",
            "-------------------------------\n",
            "Loss: 0.236155 [    0/60000]\n",
            "Loss: 0.351841 [ 6400/60000]\n",
            "Loss: 0.237251 [12800/60000]\n",
            "Loss: 0.400201 [19200/60000]\n",
            "Loss: 0.302924 [25600/60000]\n",
            "Loss: 0.350075 [32000/60000]\n",
            "Loss: 0.322694 [38400/60000]\n",
            "Loss: 0.495858 [44800/60000]\n",
            "Loss: 0.449537 [51200/60000]\n",
            "Loss: 0.384324 [57600/60000]\n",
            "\n",
            "Train Metrics: \n",
            "Accuracy: 87.8%, AVG Loss: 0.342125 \n",
            "\n",
            "Validation Metrics: \n",
            "Accuracy: 86.4%, AVG Loss: 0.379594 \n",
            "\n",
            "Epoch 7\n",
            "-------------------------------\n",
            "Loss: 0.226271 [    0/60000]\n",
            "Loss: 0.339253 [ 6400/60000]\n",
            "Loss: 0.225850 [12800/60000]\n",
            "Loss: 0.382073 [19200/60000]\n",
            "Loss: 0.295550 [25600/60000]\n",
            "Loss: 0.341246 [32000/60000]\n",
            "Loss: 0.307819 [38400/60000]\n",
            "Loss: 0.474325 [44800/60000]\n",
            "Loss: 0.432265 [51200/60000]\n",
            "Loss: 0.376859 [57600/60000]\n",
            "\n",
            "Train Metrics: \n",
            "Accuracy: 88.3%, AVG Loss: 0.329621 \n",
            "\n",
            "Validation Metrics: \n",
            "Accuracy: 86.7%, AVG Loss: 0.371674 \n",
            "\n",
            "Epoch 8\n",
            "-------------------------------\n",
            "Loss: 0.218250 [    0/60000]\n",
            "Loss: 0.330644 [ 6400/60000]\n",
            "Loss: 0.220698 [12800/60000]\n",
            "Loss: 0.365361 [19200/60000]\n",
            "Loss: 0.292979 [25600/60000]\n",
            "Loss: 0.328831 [32000/60000]\n",
            "Loss: 0.298737 [38400/60000]\n",
            "Loss: 0.454085 [44800/60000]\n",
            "Loss: 0.413354 [51200/60000]\n",
            "Loss: 0.368225 [57600/60000]\n",
            "\n",
            "Train Metrics: \n",
            "Accuracy: 88.7%, AVG Loss: 0.318795 \n",
            "\n",
            "Validation Metrics: \n",
            "Accuracy: 87.0%, AVG Loss: 0.364999 \n",
            "\n",
            "Epoch 9\n",
            "-------------------------------\n",
            "Loss: 0.213180 [    0/60000]\n",
            "Loss: 0.323241 [ 6400/60000]\n",
            "Loss: 0.213854 [12800/60000]\n",
            "Loss: 0.352026 [19200/60000]\n",
            "Loss: 0.290000 [25600/60000]\n",
            "Loss: 0.321645 [32000/60000]\n",
            "Loss: 0.290503 [38400/60000]\n",
            "Loss: 0.436411 [44800/60000]\n",
            "Loss: 0.399119 [51200/60000]\n",
            "Loss: 0.361168 [57600/60000]\n",
            "\n",
            "Train Metrics: \n",
            "Accuracy: 89.0%, AVG Loss: 0.309276 \n",
            "\n",
            "Validation Metrics: \n",
            "Accuracy: 87.2%, AVG Loss: 0.358870 \n",
            "\n",
            "Epoch 10\n",
            "-------------------------------\n",
            "Loss: 0.208976 [    0/60000]\n",
            "Loss: 0.312321 [ 6400/60000]\n",
            "Loss: 0.209801 [12800/60000]\n",
            "Loss: 0.339379 [19200/60000]\n",
            "Loss: 0.284616 [25600/60000]\n",
            "Loss: 0.315949 [32000/60000]\n",
            "Loss: 0.279498 [38400/60000]\n",
            "Loss: 0.420763 [44800/60000]\n",
            "Loss: 0.382076 [51200/60000]\n",
            "Loss: 0.351457 [57600/60000]\n",
            "\n",
            "Train Metrics: \n",
            "Accuracy: 89.3%, AVG Loss: 0.300586 \n",
            "\n",
            "Validation Metrics: \n",
            "Accuracy: 87.3%, AVG Loss: 0.353208 \n",
            "\n",
            "Epoch 11\n",
            "-------------------------------\n",
            "Loss: 0.204449 [    0/60000]\n",
            "Loss: 0.308470 [ 6400/60000]\n",
            "Loss: 0.207071 [12800/60000]\n",
            "Loss: 0.327618 [19200/60000]\n",
            "Loss: 0.281312 [25600/60000]\n",
            "Loss: 0.310079 [32000/60000]\n",
            "Loss: 0.272849 [38400/60000]\n",
            "Loss: 0.405900 [44800/60000]\n",
            "Loss: 0.365478 [51200/60000]\n",
            "Loss: 0.346386 [57600/60000]\n",
            "\n",
            "Train Metrics: \n",
            "Accuracy: 89.6%, AVG Loss: 0.292695 \n",
            "\n",
            "Validation Metrics: \n",
            "Accuracy: 87.5%, AVG Loss: 0.349374 \n",
            "\n",
            "Epoch 12\n",
            "-------------------------------\n",
            "Loss: 0.201030 [    0/60000]\n",
            "Loss: 0.301186 [ 6400/60000]\n",
            "Loss: 0.206014 [12800/60000]\n",
            "Loss: 0.315248 [19200/60000]\n",
            "Loss: 0.280021 [25600/60000]\n",
            "Loss: 0.305785 [32000/60000]\n",
            "Loss: 0.263515 [38400/60000]\n",
            "Loss: 0.396921 [44800/60000]\n",
            "Loss: 0.356825 [51200/60000]\n",
            "Loss: 0.338991 [57600/60000]\n",
            "\n",
            "Train Metrics: \n",
            "Accuracy: 89.8%, AVG Loss: 0.285538 \n",
            "\n",
            "Validation Metrics: \n",
            "Accuracy: 87.6%, AVG Loss: 0.345621 \n",
            "\n",
            "Epoch 13\n",
            "-------------------------------\n",
            "Loss: 0.198883 [    0/60000]\n",
            "Loss: 0.294414 [ 6400/60000]\n",
            "Loss: 0.202159 [12800/60000]\n",
            "Loss: 0.304218 [19200/60000]\n",
            "Loss: 0.276923 [25600/60000]\n",
            "Loss: 0.303022 [32000/60000]\n",
            "Loss: 0.259366 [38400/60000]\n",
            "Loss: 0.384495 [44800/60000]\n",
            "Loss: 0.345447 [51200/60000]\n",
            "Loss: 0.332468 [57600/60000]\n",
            "\n",
            "Train Metrics: \n",
            "Accuracy: 90.0%, AVG Loss: 0.278847 \n",
            "\n",
            "Validation Metrics: \n",
            "Accuracy: 87.7%, AVG Loss: 0.342067 \n",
            "\n",
            "Epoch 14\n",
            "-------------------------------\n",
            "Loss: 0.196517 [    0/60000]\n",
            "Loss: 0.288122 [ 6400/60000]\n",
            "Loss: 0.200193 [12800/60000]\n",
            "Loss: 0.293645 [19200/60000]\n",
            "Loss: 0.272409 [25600/60000]\n",
            "Loss: 0.294854 [32000/60000]\n",
            "Loss: 0.253895 [38400/60000]\n",
            "Loss: 0.372761 [44800/60000]\n",
            "Loss: 0.334150 [51200/60000]\n",
            "Loss: 0.327208 [57600/60000]\n",
            "\n",
            "Train Metrics: \n",
            "Accuracy: 90.2%, AVG Loss: 0.272536 \n",
            "\n",
            "Validation Metrics: \n",
            "Accuracy: 87.9%, AVG Loss: 0.338979 \n",
            "\n",
            "Epoch 15\n",
            "-------------------------------\n",
            "Loss: 0.194701 [    0/60000]\n",
            "Loss: 0.285584 [ 6400/60000]\n",
            "Loss: 0.199213 [12800/60000]\n",
            "Loss: 0.285799 [19200/60000]\n",
            "Loss: 0.267528 [25600/60000]\n",
            "Loss: 0.291350 [32000/60000]\n",
            "Loss: 0.248554 [38400/60000]\n",
            "Loss: 0.361833 [44800/60000]\n",
            "Loss: 0.320862 [51200/60000]\n",
            "Loss: 0.321496 [57600/60000]\n",
            "\n",
            "Train Metrics: \n",
            "Accuracy: 90.4%, AVG Loss: 0.266485 \n",
            "\n",
            "Validation Metrics: \n",
            "Accuracy: 88.0%, AVG Loss: 0.336359 \n",
            "\n",
            "Epoch 16\n",
            "-------------------------------\n",
            "Loss: 0.190898 [    0/60000]\n",
            "Loss: 0.280767 [ 6400/60000]\n",
            "Loss: 0.195989 [12800/60000]\n",
            "Loss: 0.280493 [19200/60000]\n",
            "Loss: 0.260326 [25600/60000]\n",
            "Loss: 0.282370 [32000/60000]\n",
            "Loss: 0.242432 [38400/60000]\n",
            "Loss: 0.353872 [44800/60000]\n",
            "Loss: 0.310635 [51200/60000]\n",
            "Loss: 0.315531 [57600/60000]\n",
            "\n",
            "Train Metrics: \n",
            "Accuracy: 90.7%, AVG Loss: 0.260780 \n",
            "\n",
            "Validation Metrics: \n",
            "Accuracy: 88.1%, AVG Loss: 0.334112 \n",
            "\n",
            "Epoch 17\n",
            "-------------------------------\n",
            "Loss: 0.190248 [    0/60000]\n",
            "Loss: 0.279099 [ 6400/60000]\n",
            "Loss: 0.192887 [12800/60000]\n",
            "Loss: 0.273422 [19200/60000]\n",
            "Loss: 0.260508 [25600/60000]\n",
            "Loss: 0.280455 [32000/60000]\n",
            "Loss: 0.242128 [38400/60000]\n",
            "Loss: 0.341008 [44800/60000]\n",
            "Loss: 0.303247 [51200/60000]\n",
            "Loss: 0.311833 [57600/60000]\n",
            "\n",
            "Train Metrics: \n",
            "Accuracy: 90.9%, AVG Loss: 0.255354 \n",
            "\n",
            "Validation Metrics: \n",
            "Accuracy: 88.1%, AVG Loss: 0.332855 \n",
            "\n",
            "Epoch 18\n",
            "-------------------------------\n",
            "Loss: 0.185739 [    0/60000]\n",
            "Loss: 0.272514 [ 6400/60000]\n",
            "Loss: 0.192127 [12800/60000]\n",
            "Loss: 0.266356 [19200/60000]\n",
            "Loss: 0.259646 [25600/60000]\n",
            "Loss: 0.276309 [32000/60000]\n",
            "Loss: 0.236050 [38400/60000]\n",
            "Loss: 0.332480 [44800/60000]\n",
            "Loss: 0.289708 [51200/60000]\n",
            "Loss: 0.298078 [57600/60000]\n",
            "\n",
            "Train Metrics: \n",
            "Accuracy: 91.1%, AVG Loss: 0.250219 \n",
            "\n",
            "Validation Metrics: \n",
            "Accuracy: 88.1%, AVG Loss: 0.331324 \n",
            "\n",
            "Epoch 19\n",
            "-------------------------------\n",
            "Loss: 0.184051 [    0/60000]\n",
            "Loss: 0.266097 [ 6400/60000]\n",
            "Loss: 0.191143 [12800/60000]\n",
            "Loss: 0.263160 [19200/60000]\n",
            "Loss: 0.256581 [25600/60000]\n",
            "Loss: 0.271858 [32000/60000]\n",
            "Loss: 0.229735 [38400/60000]\n",
            "Loss: 0.324492 [44800/60000]\n",
            "Loss: 0.285563 [51200/60000]\n",
            "Loss: 0.294894 [57600/60000]\n",
            "\n",
            "Train Metrics: \n",
            "Accuracy: 91.2%, AVG Loss: 0.245307 \n",
            "\n",
            "Validation Metrics: \n",
            "Accuracy: 88.1%, AVG Loss: 0.330384 \n",
            "\n",
            "Epoch 20\n",
            "-------------------------------\n",
            "Loss: 0.184302 [    0/60000]\n",
            "Loss: 0.262093 [ 6400/60000]\n",
            "Loss: 0.190679 [12800/60000]\n",
            "Loss: 0.255580 [19200/60000]\n",
            "Loss: 0.253880 [25600/60000]\n",
            "Loss: 0.269168 [32000/60000]\n",
            "Loss: 0.226580 [38400/60000]\n",
            "Loss: 0.313654 [44800/60000]\n",
            "Loss: 0.277618 [51200/60000]\n",
            "Loss: 0.289164 [57600/60000]\n",
            "\n",
            "Train Metrics: \n",
            "Accuracy: 91.4%, AVG Loss: 0.240608 \n",
            "\n",
            "Validation Metrics: \n",
            "Accuracy: 88.2%, AVG Loss: 0.329809 \n",
            "\n",
            "Epoch 21\n",
            "-------------------------------\n",
            "Loss: 0.181438 [    0/60000]\n",
            "Loss: 0.254428 [ 6400/60000]\n",
            "Loss: 0.189527 [12800/60000]\n",
            "Loss: 0.249862 [19200/60000]\n",
            "Loss: 0.251889 [25600/60000]\n",
            "Loss: 0.266880 [32000/60000]\n",
            "Loss: 0.222198 [38400/60000]\n",
            "Loss: 0.306757 [44800/60000]\n",
            "Loss: 0.264708 [51200/60000]\n",
            "Loss: 0.282792 [57600/60000]\n",
            "\n",
            "Train Metrics: \n",
            "Accuracy: 91.6%, AVG Loss: 0.235980 \n",
            "\n",
            "Validation Metrics: \n",
            "Accuracy: 88.2%, AVG Loss: 0.328581 \n",
            "\n",
            "Epoch 22\n",
            "-------------------------------\n",
            "Loss: 0.180401 [    0/60000]\n",
            "Loss: 0.250622 [ 6400/60000]\n",
            "Loss: 0.187478 [12800/60000]\n",
            "Loss: 0.245491 [19200/60000]\n",
            "Loss: 0.253490 [25600/60000]\n",
            "Loss: 0.260886 [32000/60000]\n",
            "Loss: 0.218597 [38400/60000]\n",
            "Loss: 0.299811 [44800/60000]\n",
            "Loss: 0.257820 [51200/60000]\n",
            "Loss: 0.279842 [57600/60000]\n",
            "\n",
            "Train Metrics: \n",
            "Accuracy: 91.7%, AVG Loss: 0.231356 \n",
            "\n",
            "Validation Metrics: \n",
            "Accuracy: 88.3%, AVG Loss: 0.329109 \n",
            "\n",
            "Epoch 23\n",
            "-------------------------------\n",
            "Loss: 0.176033 [    0/60000]\n",
            "Loss: 0.248778 [ 6400/60000]\n",
            "Loss: 0.187028 [12800/60000]\n",
            "Loss: 0.241121 [19200/60000]\n",
            "Loss: 0.250504 [25600/60000]\n",
            "Loss: 0.257831 [32000/60000]\n",
            "Loss: 0.215325 [38400/60000]\n",
            "Loss: 0.290336 [44800/60000]\n",
            "Loss: 0.249792 [51200/60000]\n",
            "Loss: 0.272699 [57600/60000]\n",
            "\n",
            "Train Metrics: \n",
            "Accuracy: 91.9%, AVG Loss: 0.227056 \n",
            "\n",
            "Validation Metrics: \n",
            "Accuracy: 88.3%, AVG Loss: 0.327924 \n",
            "\n",
            "Epoch 24\n",
            "-------------------------------\n",
            "Loss: 0.176340 [    0/60000]\n",
            "Loss: 0.240254 [ 6400/60000]\n",
            "Loss: 0.185092 [12800/60000]\n",
            "Loss: 0.236878 [19200/60000]\n",
            "Loss: 0.252515 [25600/60000]\n",
            "Loss: 0.251463 [32000/60000]\n",
            "Loss: 0.210890 [38400/60000]\n",
            "Loss: 0.286614 [44800/60000]\n",
            "Loss: 0.241326 [51200/60000]\n",
            "Loss: 0.269076 [57600/60000]\n",
            "\n",
            "Train Metrics: \n",
            "Accuracy: 92.0%, AVG Loss: 0.222757 \n",
            "\n",
            "Validation Metrics: \n",
            "Accuracy: 88.4%, AVG Loss: 0.328137 \n",
            "\n",
            "Epoch 25\n",
            "-------------------------------\n",
            "Loss: 0.172515 [    0/60000]\n",
            "Loss: 0.236822 [ 6400/60000]\n",
            "Loss: 0.184488 [12800/60000]\n",
            "Loss: 0.236005 [19200/60000]\n",
            "Loss: 0.252149 [25600/60000]\n",
            "Loss: 0.249421 [32000/60000]\n",
            "Loss: 0.206193 [38400/60000]\n",
            "Loss: 0.279818 [44800/60000]\n",
            "Loss: 0.237560 [51200/60000]\n",
            "Loss: 0.258732 [57600/60000]\n",
            "\n",
            "Train Metrics: \n",
            "Accuracy: 92.2%, AVG Loss: 0.218634 \n",
            "\n",
            "Validation Metrics: \n",
            "Accuracy: 88.5%, AVG Loss: 0.326982 \n",
            "\n",
            "Epoch 26\n",
            "-------------------------------\n",
            "Loss: 0.170651 [    0/60000]\n",
            "Loss: 0.231020 [ 6400/60000]\n",
            "Loss: 0.183093 [12800/60000]\n",
            "Loss: 0.230260 [19200/60000]\n",
            "Loss: 0.247596 [25600/60000]\n",
            "Loss: 0.249014 [32000/60000]\n",
            "Loss: 0.203072 [38400/60000]\n",
            "Loss: 0.273395 [44800/60000]\n",
            "Loss: 0.230145 [51200/60000]\n",
            "Loss: 0.255263 [57600/60000]\n",
            "\n",
            "Train Metrics: \n",
            "Accuracy: 92.4%, AVG Loss: 0.214538 \n",
            "\n",
            "Validation Metrics: \n",
            "Accuracy: 88.5%, AVG Loss: 0.326049 \n",
            "\n",
            "Epoch 27\n",
            "-------------------------------\n",
            "Loss: 0.166229 [    0/60000]\n",
            "Loss: 0.221987 [ 6400/60000]\n",
            "Loss: 0.181002 [12800/60000]\n",
            "Loss: 0.226345 [19200/60000]\n",
            "Loss: 0.247512 [25600/60000]\n",
            "Loss: 0.247914 [32000/60000]\n",
            "Loss: 0.200863 [38400/60000]\n",
            "Loss: 0.265311 [44800/60000]\n",
            "Loss: 0.222071 [51200/60000]\n",
            "Loss: 0.249220 [57600/60000]\n",
            "\n",
            "Train Metrics: \n",
            "Accuracy: 92.5%, AVG Loss: 0.210631 \n",
            "\n",
            "Validation Metrics: \n",
            "Accuracy: 88.6%, AVG Loss: 0.325252 \n",
            "\n",
            "Epoch 28\n",
            "-------------------------------\n",
            "Loss: 0.166683 [    0/60000]\n",
            "Loss: 0.219368 [ 6400/60000]\n",
            "Loss: 0.180965 [12800/60000]\n",
            "Loss: 0.221675 [19200/60000]\n",
            "Loss: 0.241697 [25600/60000]\n",
            "Loss: 0.243965 [32000/60000]\n",
            "Loss: 0.200597 [38400/60000]\n",
            "Loss: 0.258997 [44800/60000]\n",
            "Loss: 0.216203 [51200/60000]\n",
            "Loss: 0.245727 [57600/60000]\n",
            "\n",
            "Train Metrics: \n",
            "Accuracy: 92.7%, AVG Loss: 0.206763 \n",
            "\n",
            "Validation Metrics: \n",
            "Accuracy: 88.6%, AVG Loss: 0.328178 \n",
            "\n",
            "Epoch 29\n",
            "-------------------------------\n",
            "Loss: 0.163662 [    0/60000]\n",
            "Loss: 0.212647 [ 6400/60000]\n",
            "Loss: 0.179949 [12800/60000]\n",
            "Loss: 0.222959 [19200/60000]\n",
            "Loss: 0.242717 [25600/60000]\n",
            "Loss: 0.245551 [32000/60000]\n",
            "Loss: 0.196656 [38400/60000]\n",
            "Loss: 0.253324 [44800/60000]\n",
            "Loss: 0.212593 [51200/60000]\n",
            "Loss: 0.237020 [57600/60000]\n",
            "\n",
            "Train Metrics: \n",
            "Accuracy: 92.8%, AVG Loss: 0.203091 \n",
            "\n",
            "Validation Metrics: \n",
            "Accuracy: 88.5%, AVG Loss: 0.329112 \n",
            "\n",
            "Epoch 30\n",
            "-------------------------------\n",
            "Loss: 0.160023 [    0/60000]\n",
            "Loss: 0.206988 [ 6400/60000]\n",
            "Loss: 0.178705 [12800/60000]\n",
            "Loss: 0.215859 [19200/60000]\n",
            "Loss: 0.239437 [25600/60000]\n",
            "Loss: 0.236750 [32000/60000]\n",
            "Loss: 0.193627 [38400/60000]\n",
            "Loss: 0.246528 [44800/60000]\n",
            "Loss: 0.204632 [51200/60000]\n",
            "Loss: 0.233760 [57600/60000]\n",
            "\n",
            "Train Metrics: \n",
            "Accuracy: 93.0%, AVG Loss: 0.199262 \n",
            "\n",
            "Validation Metrics: \n",
            "Accuracy: 88.5%, AVG Loss: 0.329911 \n",
            "\n",
            "Done!\n"
          ]
        }
      ]
    },
    {
      "cell_type": "markdown",
      "source": [
        "## Convergence Analysis"
      ],
      "metadata": {
        "id": "FbKbCDahCllp"
      }
    },
    {
      "cell_type": "code",
      "source": [
        "fig, (ax1, ax2) = plt.subplots(1, 2, figsize = (18, 4))\n",
        "\n",
        "ax1.plot(train_loss, label = 'Train Loss')\n",
        "ax1.plot(validation_loss, label = 'Validation Loss')\n",
        "ax1.set_title('Model Convergence - Loss')\n",
        "ax1.set_xlabel('Epochs')\n",
        "ax1.set_ylabel('Loss')\n",
        "ax1.legend()\n",
        "\n",
        "ax2.plot(train_acc, label = 'Train Accuracy')\n",
        "ax2.plot(validation_acc, label = 'Validation Accuracy')\n",
        "ax2.set_title('Model Convergence - Accuracy')\n",
        "ax2.set_xlabel('Epochs')\n",
        "ax2.set_ylabel('Accuracy')\n",
        "ax2.legend()\n",
        "\n",
        "plt.show()"
      ],
      "metadata": {
        "colab": {
          "base_uri": "https://localhost:8080/",
          "height": 410
        },
        "id": "5e9tms9xCfMj",
        "outputId": "517617e8-2b12-4e60-d00a-c107c2332905"
      },
      "execution_count": 38,
      "outputs": [
        {
          "output_type": "display_data",
          "data": {
            "text/plain": [
              "<Figure size 1800x400 with 2 Axes>"
            ],
            "image/png": "[encoded data removed]"
          },
          "metadata": {}
        }
      ]
    },
    {
      "cell_type": "markdown",
      "source": [
        "## Saving Models"
      ],
      "metadata": {
        "id": "SruLIKqaF5kH"
      }
    },
    {
      "cell_type": "code",
      "source": [
        "torch.save(model.state_dict(), 'model.pth')\n",
        "print('Saved Pytorch Model State to model.pth')"
      ],
      "metadata": {
        "colab": {
          "base_uri": "https://localhost:8080/",
          "height": 0
        },
        "id": "06jbUm6iDpzN",
        "outputId": "3ed4ca73-bcd3-4f1d-8d91-b46d4eaa9be0"
      },
      "execution_count": 39,
      "outputs": [
        {
          "output_type": "stream",
          "name": "stdout",
          "text": [
            "Saved Pytorch Model State to model.pth\n"
          ]
        }
      ]
    },
    {
      "cell_type": "markdown",
      "source": [
        "## Loading Models"
      ],
      "metadata": {
        "id": "0TnIG2v4GoSM"
      }
    },
    {
      "cell_type": "code",
      "source": [
        "model = NeuralNetwork().to(args['device'])\n",
        "model.load_state_dict(torch.load('model.pth'))"
      ],
      "metadata": {
        "colab": {
          "base_uri": "https://localhost:8080/",
          "height": 0
        },
        "id": "OiXgR-RnDqqU",
        "outputId": "40cf1498-089d-44ae-a18a-db69835453eb"
      },
      "execution_count": 40,
      "outputs": [
        {
          "output_type": "execute_result",
          "data": {
            "text/plain": [
              "<All keys matched successfully>"
            ]
          },
          "metadata": {},
          "execution_count": 40
        }
      ]
    },
    {
      "cell_type": "code",
      "source": [
        "! ls"
      ],
      "metadata": {
        "colab": {
          "base_uri": "https://localhost:8080/",
          "height": 0
        },
        "id": "kkI05GZyHL07",
        "outputId": "208daa2e-2938-4ce3-9fd8-781d9b151f97"
      },
      "execution_count": 41,
      "outputs": [
        {
          "output_type": "stream",
          "name": "stdout",
          "text": [
            "data  model.pth  sample_data\n"
          ]
        }
      ]
    },
    {
      "cell_type": "markdown",
      "source": [
        "## Classes"
      ],
      "metadata": {
        "id": "Ty5Vb5B3HwHQ"
      }
    },
    {
      "cell_type": "code",
      "source": [
        "classes = [\n",
        "    'T-shirt/top',\n",
        "    'Trouser',\n",
        "    'Pullover',\n",
        "    'Dress',\n",
        "    'Coat',\n",
        "    'Sandal',\n",
        "    'Shirt',\n",
        "    'Sneaker',\n",
        "    'Bag',\n",
        "    'Ankle boot',\n",
        "]"
      ],
      "metadata": {
        "id": "xPviRUibHNn3"
      },
      "execution_count": 42,
      "outputs": []
    },
    {
      "cell_type": "markdown",
      "source": [
        "## Function prediction"
      ],
      "metadata": {
        "id": "TAZXjZQTLSsv"
      }
    },
    {
      "cell_type": "code",
      "source": [
        "def prediction(data_test, idx_test):\n",
        "\n",
        "    model.eval()\n",
        "    X, y = data_test[idx_test][0], validation_data[idx_test][1]\n",
        "    with torch.no_grad():\n",
        "        X = X.to(args['device'])\n",
        "        pred= model(X)\n",
        "        predicted, actual = classes[pred[0].argmax(0)], classes[y]\n",
        "        print(f'Predicted: {predicted}\\nActual: {actual}')"
      ],
      "metadata": {
        "id": "IhMu2hHSH9bA"
      },
      "execution_count": 43,
      "outputs": []
    },
    {
      "cell_type": "code",
      "source": [
        "for idx in range(10):\n",
        "    print(f'Prediction: {idx}')\n",
        "    prediction(validation_data, idx)\n",
        "    print('\\n')"
      ],
      "metadata": {
        "colab": {
          "base_uri": "https://localhost:8080/",
          "height": 0
        },
        "id": "7QyTuuTLJ2bv",
        "outputId": "c99e217c-1bd1-4dd2-d00b-e7aeb6ca1c68"
      },
      "execution_count": 44,
      "outputs": [
        {
          "output_type": "stream",
          "name": "stdout",
          "text": [
            "Prediction: 0\n",
            "Predicted: Ankle boot\n",
            "Actual: Ankle boot\n",
            "\n",
            "\n",
            "Prediction: 1\n",
            "Predicted: Pullover\n",
            "Actual: Pullover\n",
            "\n",
            "\n",
            "Prediction: 2\n",
            "Predicted: Trouser\n",
            "Actual: Trouser\n",
            "\n",
            "\n",
            "Prediction: 3\n",
            "Predicted: Trouser\n",
            "Actual: Trouser\n",
            "\n",
            "\n",
            "Prediction: 4\n",
            "Predicted: Shirt\n",
            "Actual: Shirt\n",
            "\n",
            "\n",
            "Prediction: 5\n",
            "Predicted: Trouser\n",
            "Actual: Trouser\n",
            "\n",
            "\n",
            "Prediction: 6\n",
            "Predicted: Coat\n",
            "Actual: Coat\n",
            "\n",
            "\n",
            "Prediction: 7\n",
            "Predicted: Shirt\n",
            "Actual: Shirt\n",
            "\n",
            "\n",
            "Prediction: 8\n",
            "Predicted: Sandal\n",
            "Actual: Sandal\n",
            "\n",
            "\n",
            "Prediction: 9\n",
            "Predicted: Sneaker\n",
            "Actual: Sneaker\n",
            "\n",
            "\n"
          ]
        }
      ]
    },
    {
      "cell_type": "code",
      "source": [],
      "metadata": {
        "id": "f_y2S1slLOP7"
      },
      "execution_count": 44,
      "outputs": []
    }
  ]
}