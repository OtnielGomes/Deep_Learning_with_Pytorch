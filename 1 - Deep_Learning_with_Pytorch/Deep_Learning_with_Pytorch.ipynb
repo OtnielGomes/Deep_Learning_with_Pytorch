{
 "cells": [
  {
   "cell_type": "markdown",
   "metadata": {
    "application/vnd.databricks.v1+cell": {
     "cellMetadata": {
      "byteLimit": 2048000,
      "rowLimit": 10000
     },
     "inputWidgets": {},
     "nuid": "acedc11f-7682-4798-82a0-00d53748f2e8",
     "showTitle": false,
     "title": ""
    }
   },
   "source": [
    "## Deep learning with Pytorch"
   ]
  },
  {
   "cell_type": "markdown",
   "metadata": {
    "application/vnd.databricks.v1+cell": {
     "cellMetadata": {
      "byteLimit": 2048000,
      "rowLimit": 10000
     },
     "inputWidgets": {},
     "nuid": "bcc85d60-2538-49ec-82f9-eddda7007280",
     "showTitle": false,
     "title": ""
    }
   },
   "source": [
    "## Installs:"
   ]
  },
  {
   "cell_type": "code",
   "execution_count": 0,
   "metadata": {
    "application/vnd.databricks.v1+cell": {
     "cellMetadata": {
      "byteLimit": 2048000,
      "rowLimit": 10000
     },
     "inputWidgets": {},
     "nuid": "be1f8478-e203-410b-8077-3ec43ffff0b8",
     "showTitle": false,
     "title": ""
    }
   },
   "outputs": [],
   "source": [
    "# %pip install torch\n",
    "# %pip install sklearning\n",
    "# %pip install --upgrade matplotlib\n",
    "# %pip install torchsummary"
   ]
  },
  {
   "cell_type": "markdown",
   "metadata": {
    "application/vnd.databricks.v1+cell": {
     "cellMetadata": {
      "byteLimit": 2048000,
      "rowLimit": 10000
     },
     "inputWidgets": {},
     "nuid": "a0e2a6c2-26be-4efe-8760-340e6f43fec9",
     "showTitle": false,
     "title": ""
    }
   },
   "source": [
    "## Imports:"
   ]
  },
  {
   "cell_type": "code",
   "execution_count": 0,
   "metadata": {
    "application/vnd.databricks.v1+cell": {
     "cellMetadata": {
      "byteLimit": 2048000,
      "rowLimit": 10000
     },
     "inputWidgets": {},
     "nuid": "505278a5-ec9b-416a-9cfa-5c2906ebef9a",
     "showTitle": false,
     "title": ""
    }
   },
   "outputs": [],
   "source": [
    "# Pytorch\n",
    "import torch\n",
    "from torch import nn # Neural networks\n",
    "from torchsummary import summary\n",
    "\n",
    "# Numpy\n",
    "import numpy as np\n",
    "\n",
    "# Sklearn\n",
    "from sklearn.datasets import make_classification, make_moons # Dataset from sklearnig for training model\n",
    "\n",
    "# MatPlotLib\n",
    "import matplotlib.pyplot as plt\n",
    "from mpl_toolkits.mplot3d import Axes3D\n"
   ]
  },
  {
   "cell_type": "markdown",
   "metadata": {
    "application/vnd.databricks.v1+cell": {
     "cellMetadata": {
      "byteLimit": 2048000,
      "rowLimit": 10000
     },
     "inputWidgets": {},
     "nuid": "847f0d5e-e367-4d0e-af0d-6003ebb11f63",
     "showTitle": false,
     "title": ""
    }
   },
   "source": [
    "## Types of tensioners"
   ]
  },
  {
   "cell_type": "code",
   "execution_count": 0,
   "metadata": {
    "application/vnd.databricks.v1+cell": {
     "cellMetadata": {
      "byteLimit": 2048000,
      "rowLimit": 10000
     },
     "inputWidgets": {},
     "nuid": "66805c74-2752-445b-a30a-c9043ed64be1",
     "showTitle": false,
     "title": ""
    }
   },
   "outputs": [],
   "source": [
    "# Creating a variable for testing:\n",
    "\n",
    "test_list = [[1, 2, 3], # 2D Matrix\n",
    "             [4, 5, 6]]"
   ]
  },
  {
   "cell_type": "code",
   "execution_count": 0,
   "metadata": {
    "application/vnd.databricks.v1+cell": {
     "cellMetadata": {
      "byteLimit": 2048000,
      "rowLimit": 10000
     },
     "inputWidgets": {},
     "nuid": "6e73b816-988d-47a6-85ef-c8cde54408d0",
     "showTitle": false,
     "title": ""
    }
   },
   "outputs": [
    {
     "output_type": "stream",
     "name": "stdout",
     "output_type": "stream",
     "text": [
      "torch.float32\ntensor([[1., 2., 3.],\n        [4., 5., 6.]])\n"
     ]
    }
   ],
   "source": [
    "# Default Tensor\n",
    "# It is a standard tensor with 32 bytes and is used to solve simpler problems\n",
    "\n",
    "tensor = torch.Tensor(test_list)\n",
    "print(tensor.dtype)\n",
    "print(tensor)"
   ]
  },
  {
   "cell_type": "code",
   "execution_count": 0,
   "metadata": {
    "application/vnd.databricks.v1+cell": {
     "cellMetadata": {
      "byteLimit": 2048000,
      "rowLimit": 10000
     },
     "inputWidgets": {},
     "nuid": "7edf375d-3527-4fd6-bb05-2a18ca81e367",
     "showTitle": false,
     "title": ""
    }
   },
   "outputs": [
    {
     "output_type": "stream",
     "name": "stdout",
     "output_type": "stream",
     "text": [
      "torch.float32\ntensor([[1., 2., 3.],\n        [4., 5., 6.]])\n"
     ]
    }
   ],
   "source": [
    "# Float Tensor\n",
    "# It is a tensor with 32 bytes and is used to solve more complex problems.\n",
    "\n",
    "tensor = torch.Tensor(test_list).float()\n",
    "print(tensor.dtype)\n",
    "print(tensor)"
   ]
  },
  {
   "cell_type": "code",
   "execution_count": 0,
   "metadata": {
    "application/vnd.databricks.v1+cell": {
     "cellMetadata": {
      "byteLimit": 2048000,
      "rowLimit": 10000
     },
     "inputWidgets": {},
     "nuid": "81a41b9d-66eb-43ef-b1bf-d968d73c263e",
     "showTitle": false,
     "title": ""
    }
   },
   "outputs": [
    {
     "output_type": "stream",
     "name": "stdout",
     "output_type": "stream",
     "text": [
      "torch.float64\ntensor([[1., 2., 3.],\n        [4., 5., 6.]], dtype=torch.float64)\n"
     ]
    }
   ],
   "source": [
    "# Double Tensor\n",
    "# It is a more robust tensor with 64 bytes and is used to solve more complex problems.\n",
    "\n",
    "tensor = torch.Tensor(test_list).double()\n",
    "print(tensor.dtype)\n",
    "print(tensor)"
   ]
  },
  {
   "cell_type": "code",
   "execution_count": 0,
   "metadata": {
    "application/vnd.databricks.v1+cell": {
     "cellMetadata": {
      "byteLimit": 2048000,
      "rowLimit": 10000
     },
     "inputWidgets": {},
     "nuid": "cde9cd1d-29d5-45d1-9344-a48e962675f4",
     "showTitle": false,
     "title": ""
    }
   },
   "outputs": [
    {
     "output_type": "stream",
     "name": "stdout",
     "output_type": "stream",
     "text": [
      "torch.int64\ntensor([[1, 2, 3],\n        [4, 5, 6]])\n"
     ]
    }
   ],
   "source": [
    "# Long Tensor\n",
    "# It is a tensor with 64 bytes and is used to solve problems with integers.\n",
    "\n",
    "tensor = torch.Tensor(test_list).long()\n",
    "print(tensor.dtype)\n",
    "print(tensor)"
   ]
  },
  {
   "cell_type": "markdown",
   "metadata": {
    "application/vnd.databricks.v1+cell": {
     "cellMetadata": {
      "byteLimit": 2048000,
      "rowLimit": 10000
     },
     "inputWidgets": {},
     "nuid": "f17f3013-7e86-46b4-b77f-37dd10e6ccdc",
     "showTitle": false,
     "title": ""
    }
   },
   "source": [
    "## Tensor from Numpy"
   ]
  },
  {
   "cell_type": "code",
   "execution_count": 0,
   "metadata": {
    "application/vnd.databricks.v1+cell": {
     "cellMetadata": {
      "byteLimit": 2048000,
      "rowLimit": 10000
     },
     "inputWidgets": {},
     "nuid": "4effbf17-7c24-435c-a147-41eb7c991d08",
     "showTitle": false,
     "title": ""
    }
   },
   "outputs": [
    {
     "output_type": "stream",
     "name": "stdout",
     "output_type": "stream",
     "text": [
      "float64\n[[0.39560076 0.54138466 0.03121168 0.72398196]\n [0.37517824 0.35309221 0.62931793 0.15873444]\n [0.76164612 0.71354231 0.55527896 0.62317715]]\n"
     ]
    }
   ],
   "source": [
    "# Creating a random array\n",
    "arr = np.random.rand(3, 4) # Creating an array with 3 rows and 4 columns\n",
    "print(arr.dtype) # type of array\n",
    "# arr = arr.astype(int) # Command to create an integer array\n",
    "print(arr)"
   ]
  },
  {
   "cell_type": "code",
   "execution_count": 0,
   "metadata": {
    "application/vnd.databricks.v1+cell": {
     "cellMetadata": {
      "byteLimit": 2048000,
      "rowLimit": 10000
     },
     "inputWidgets": {},
     "nuid": "e843337a-26a9-4b85-9d73-84a90aea2e45",
     "showTitle": false,
     "title": ""
    }
   },
   "outputs": [
    {
     "output_type": "stream",
     "name": "stdout",
     "output_type": "stream",
     "text": [
      "torch.float64\ntensor([[0.3956, 0.5414, 0.0312, 0.7240],\n        [0.3752, 0.3531, 0.6293, 0.1587],\n        [0.7616, 0.7135, 0.5553, 0.6232]], dtype=torch.float64)\n"
     ]
    }
   ],
   "source": [
    "# Transforming Numpy array into a Pytorch tensor\n",
    "tensor = torch.from_numpy(arr) \n",
    "print(tensor.dtype)\n",
    "print(tensor)"
   ]
  },
  {
   "cell_type": "markdown",
   "metadata": {
    "application/vnd.databricks.v1+cell": {
     "cellMetadata": {
      "byteLimit": 2048000,
      "rowLimit": 10000
     },
     "inputWidgets": {},
     "nuid": "36bd3ccb-5bf4-4aa0-ae28-4fb0a2bd94df",
     "showTitle": false,
     "title": ""
    }
   },
   "source": [
    "## Tensors already initialized"
   ]
  },
  {
   "cell_type": "code",
   "execution_count": 0,
   "metadata": {
    "application/vnd.databricks.v1+cell": {
     "cellMetadata": {
      "byteLimit": 2048000,
      "rowLimit": 10000
     },
     "inputWidgets": {},
     "nuid": "ee7acdf3-81a3-4620-97e5-c3defddc045a",
     "showTitle": false,
     "title": ""
    }
   },
   "outputs": [
    {
     "output_type": "stream",
     "name": "stdout",
     "output_type": "stream",
     "text": [
      "torch.float64\ntensor([[0., 0., 0.],\n        [0., 0., 0.]], dtype=torch.float64)\n"
     ]
    }
   ],
   "source": [
    "# Starting a tensor with all values at 0\n",
    "tensor_zero = torch.zeros(2, 3).double() # Creating a matrix of 2 rows and 3 columns on zero values\n",
    "print(tensor_zero.dtype)\n",
    "print(tensor_zero)"
   ]
  },
  {
   "cell_type": "code",
   "execution_count": 0,
   "metadata": {
    "application/vnd.databricks.v1+cell": {
     "cellMetadata": {
      "byteLimit": 2048000,
      "rowLimit": 10000
     },
     "inputWidgets": {},
     "nuid": "97dee62a-d734-428d-9dec-11627b4d14e5",
     "showTitle": false,
     "title": ""
    }
   },
   "outputs": [
    {
     "output_type": "stream",
     "name": "stdout",
     "output_type": "stream",
     "text": [
      "torch.float64\ntensor([[1., 1., 1.],\n        [1., 1., 1.]], dtype=torch.float64)\n"
     ]
    }
   ],
   "source": [
    "# Starting a tensor with all values at 1\n",
    "tensor_one = torch.ones(2, 3).double() # Creating a matrix of 2 rows and 3 columns with values of 1\n",
    "print(tensor_one.dtype)\n",
    "print(tensor_one)"
   ]
  },
  {
   "cell_type": "code",
   "execution_count": 0,
   "metadata": {
    "application/vnd.databricks.v1+cell": {
     "cellMetadata": {
      "byteLimit": 2048000,
      "rowLimit": 10000
     },
     "inputWidgets": {},
     "nuid": "e7d0c64e-bd54-4ffb-9e95-d7eaaa983021",
     "showTitle": false,
     "title": ""
    }
   },
   "outputs": [
    {
     "output_type": "stream",
     "name": "stdout",
     "output_type": "stream",
     "text": [
      "torch.float64\ntensor([[ 0.4983, -3.7706, -1.6333],\n        [-0.0535,  2.3147,  1.9385]], dtype=torch.float64)\n"
     ]
    }
   ],
   "source": [
    "# Starting a tensor with all values random\n",
    "tensor_random = torch.randn(2, 3).double() # Creating a matrix of 2 rows and 3 columns with random values\n",
    "print(tensor_random.dtype)\n",
    "print(tensor_random)"
   ]
  },
  {
   "cell_type": "markdown",
   "metadata": {
    "application/vnd.databricks.v1+cell": {
     "cellMetadata": {
      "byteLimit": 2048000,
      "rowLimit": 10000
     },
     "inputWidgets": {},
     "nuid": "e38569dc-0393-4728-b5ea-a3934639680c",
     "showTitle": false,
     "title": ""
    }
   },
   "source": [
    "## Tensor to numpy array"
   ]
  },
  {
   "cell_type": "code",
   "execution_count": 0,
   "metadata": {
    "application/vnd.databricks.v1+cell": {
     "cellMetadata": {
      "byteLimit": 2048000,
      "rowLimit": 10000
     },
     "inputWidgets": {},
     "nuid": "4e3d023d-1d7a-49d5-a822-64676ee57080",
     "showTitle": false,
     "title": ""
    }
   },
   "outputs": [
    {
     "output_type": "stream",
     "name": "stdout",
     "output_type": "stream",
     "text": [
      "<class 'torch.Tensor'>\n<class 'numpy.ndarray'>\n[[ 0.49833226 -3.7706461  -1.63328147]\n [-0.05350364  2.31473923  1.93851233]]\n"
     ]
    }
   ],
   "source": [
    "# Transforming a tensor into a numpy array\n",
    "arr = tensor_random.data.numpy()\n",
    "print(type(tensor_random))\n",
    "print(type(arr))\n",
    "print(arr)"
   ]
  },
  {
   "cell_type": "markdown",
   "metadata": {
    "application/vnd.databricks.v1+cell": {
     "cellMetadata": {
      "byteLimit": 2048000,
      "rowLimit": 10000
     },
     "inputWidgets": {},
     "nuid": "c2330724-1086-483a-9d39-fad79edac0cc",
     "showTitle": false,
     "title": ""
    }
   },
   "source": [
    "## Indexing"
   ]
  },
  {
   "cell_type": "code",
   "execution_count": 0,
   "metadata": {
    "application/vnd.databricks.v1+cell": {
     "cellMetadata": {
      "byteLimit": 2048000,
      "rowLimit": 10000
     },
     "inputWidgets": {},
     "nuid": "55cb7c33-1e8a-456a-8d54-f57adaebfb6e",
     "showTitle": false,
     "title": ""
    }
   },
   "outputs": [
    {
     "output_type": "stream",
     "name": "stdout",
     "output_type": "stream",
     "text": [
      "tensor([[ 0.4983, -3.7706, -1.6333],\n        [-0.0535,  2.3147,  1.9385]], dtype=torch.float64)\n\n\ntensor([[  0.4983,  -3.7706,  -1.6333],\n        [ -0.0535,   2.3147, -10.0000]], dtype=torch.float64)\n"
     ]
    }
   ],
   "source": [
    "print(tensor_random)\n",
    "tensor_random[1, 2] = -10 # Starting the value -10 in line 2 of column 3 of the array\n",
    "print('\\n')\n",
    "print(tensor_random)"
   ]
  },
  {
   "cell_type": "code",
   "execution_count": 0,
   "metadata": {
    "application/vnd.databricks.v1+cell": {
     "cellMetadata": {
      "byteLimit": 2048000,
      "rowLimit": 10000
     },
     "inputWidgets": {},
     "nuid": "c5eddc55-76cf-4624-b536-783f09355597",
     "showTitle": false,
     "title": ""
    }
   },
   "outputs": [
    {
     "output_type": "stream",
     "name": "stdout",
     "output_type": "stream",
     "text": [
      "tensor([[  0.4983,  -3.7706,  -1.6333],\n        [ -0.0535,   2.3147, -10.0000]], dtype=torch.float64)\n"
     ]
    }
   ],
   "source": [
    "# Selecting tensor lines\n",
    "print(tensor_random[0 : 2]) # Printing the tensor from line 0 to line 1"
   ]
  },
  {
   "cell_type": "code",
   "execution_count": 0,
   "metadata": {
    "application/vnd.databricks.v1+cell": {
     "cellMetadata": {
      "byteLimit": 2048000,
      "rowLimit": 10000
     },
     "inputWidgets": {},
     "nuid": "94c5e177-e822-45cd-829a-8bd45920a238",
     "showTitle": false,
     "title": ""
    }
   },
   "outputs": [
    {
     "output_type": "stream",
     "name": "stdout",
     "output_type": "stream",
     "text": [
      "tensor(-1.6333, dtype=torch.float64)\n"
     ]
    }
   ],
   "source": [
    "# Selecting tensor values\n",
    "print(tensor_random[0, 2]) # Selecting value from row 1 of column 3"
   ]
  },
  {
   "cell_type": "markdown",
   "metadata": {
    "application/vnd.databricks.v1+cell": {
     "cellMetadata": {
      "byteLimit": 2048000,
      "rowLimit": 10000
     },
     "inputWidgets": {},
     "nuid": "8d416778-fe5f-46d5-a4da-ce6be719d400",
     "showTitle": false,
     "title": ""
    }
   },
   "source": [
    "## Tensor operations"
   ]
  },
  {
   "cell_type": "code",
   "execution_count": 0,
   "metadata": {
    "application/vnd.databricks.v1+cell": {
     "cellMetadata": {
      "byteLimit": 2048000,
      "rowLimit": 10000
     },
     "inputWidgets": {},
     "nuid": "b56a1856-8575-4c9e-b566-49292988aec0",
     "showTitle": false,
     "title": ""
    }
   },
   "outputs": [
    {
     "output_type": "stream",
     "name": "stdout",
     "output_type": "stream",
     "text": [
      "tensor([[1., 1., 1.],\n        [1., 1., 1.],\n        [1., 1., 1.]], dtype=torch.float64)\ntorch.Size([3, 3])\n\n\ntensor([[-0.9210,  0.5396, -1.1291],\n        [-2.2707,  0.3246, -0.3608],\n        [-0.1613,  0.4161,  0.1169]], dtype=torch.float64)\ntorch.Size([3, 3])\n"
     ]
    }
   ],
   "source": [
    "# Creating 2 tensors\n",
    "tns_1 = torch.ones(3, 3).double()\n",
    "tns_r = torch.randn(3, 3).double()\n",
    "\n",
    "print(tns_1)\n",
    "print(tns_1.shape)\n",
    "\n",
    "print('\\n')\n",
    "print(tns_r)\n",
    "print(tns_r.shape)\n"
   ]
  },
  {
   "cell_type": "code",
   "execution_count": 0,
   "metadata": {
    "application/vnd.databricks.v1+cell": {
     "cellMetadata": {
      "byteLimit": 2048000,
      "rowLimit": 10000
     },
     "inputWidgets": {},
     "nuid": "413c55bd-5927-4eb7-a406-d0828688047e",
     "showTitle": false,
     "title": ""
    }
   },
   "outputs": [
    {
     "output_type": "execute_result",
     "data": {
      "text/plain": [
       "tensor([[ 0.0790,  1.5396, -0.1291],\n",
       "        [-1.2707,  1.3246,  0.6392],\n",
       "        [ 0.8387,  1.4161,  1.1169]], dtype=torch.float64)"
      ]
     },
     "execution_count": 18,
     "metadata": {},
     "output_type": "execute_result"
    }
   ],
   "source": [
    "# Adding the tensors\n",
    "\n",
    "sum_tensor = tns_1 + tns_r\n",
    "sum_tensor"
   ]
  },
  {
   "cell_type": "code",
   "execution_count": 0,
   "metadata": {
    "application/vnd.databricks.v1+cell": {
     "cellMetadata": {
      "byteLimit": 2048000,
      "rowLimit": 10000
     },
     "inputWidgets": {},
     "nuid": "a5efd6b4-8448-4a27-b50e-451ffff172c9",
     "showTitle": false,
     "title": ""
    }
   },
   "outputs": [
    {
     "output_type": "execute_result",
     "data": {
      "text/plain": [
       "tensor([[-0.9210,  0.5396, -1.1291],\n",
       "        [-2.2707,  0.3246, -0.3608],\n",
       "        [-0.1613,  0.4161,  0.1169]], dtype=torch.float64)"
      ]
     },
     "execution_count": 19,
     "metadata": {},
     "output_type": "execute_result"
    }
   ],
   "source": [
    "# Multiplying the tensors\n",
    "\n",
    "multi_tensor = tns_1 * tns_r\n",
    "multi_tensor"
   ]
  },
  {
   "cell_type": "code",
   "execution_count": 0,
   "metadata": {
    "application/vnd.databricks.v1+cell": {
     "cellMetadata": {
      "byteLimit": 2048000,
      "rowLimit": 10000
     },
     "inputWidgets": {},
     "nuid": "ab3a1b28-7ebe-4058-bbc2-1db1f6fd767b",
     "showTitle": false,
     "title": ""
    }
   },
   "outputs": [
    {
     "output_type": "execute_result",
     "data": {
      "text/plain": [
       "tensor([[-1.0858,  1.8533, -0.8857],\n",
       "        [-0.4404,  3.0812, -2.7717],\n",
       "        [-6.1989,  2.4032,  8.5541]], dtype=torch.float64)"
      ]
     },
     "execution_count": 20,
     "metadata": {},
     "output_type": "execute_result"
    }
   ],
   "source": [
    "# Splitting the tensors\n",
    "\n",
    "split_tensor = tns_1 / tns_r\n",
    "split_tensor"
   ]
  },
  {
   "cell_type": "code",
   "execution_count": 0,
   "metadata": {
    "application/vnd.databricks.v1+cell": {
     "cellMetadata": {
      "byteLimit": 2048000,
      "rowLimit": 10000
     },
     "inputWidgets": {},
     "nuid": "20740a0a-3d2f-4178-b760-e1701c27914e",
     "showTitle": false,
     "title": ""
    }
   },
   "outputs": [
    {
     "output_type": "execute_result",
     "data": {
      "text/plain": [
       "(tensor([[1., 1., 1.],\n",
       "         [1., 1., 1.],\n",
       "         [1., 1., 1.]], dtype=torch.float64),\n",
       " tensor([[-0.9210, -2.2707, -0.1613],\n",
       "         [ 0.5396,  0.3246,  0.4161],\n",
       "         [-1.1291, -0.3608,  0.1169]], dtype=torch.float64))"
      ]
     },
     "execution_count": 21,
     "metadata": {},
     "output_type": "execute_result"
    }
   ],
   "source": [
    "# Multiplication between matrices\n",
    "\n",
    "multi_matrix_tensor = tns_1, tns_r.T\n",
    "multi_matrix_tensor"
   ]
  },
  {
   "cell_type": "markdown",
   "metadata": {
    "application/vnd.databricks.v1+cell": {
     "cellMetadata": {
      "byteLimit": 2048000,
      "rowLimit": 10000
     },
     "inputWidgets": {},
     "nuid": "2952758e-95c8-46c5-9783-d4f25c83e01c",
     "showTitle": false,
     "title": ""
    }
   },
   "source": [
    "## Function .size() and .view()"
   ]
  },
  {
   "cell_type": "code",
   "execution_count": 0,
   "metadata": {
    "application/vnd.databricks.v1+cell": {
     "cellMetadata": {
      "byteLimit": 2048000,
      "rowLimit": 10000
     },
     "inputWidgets": {},
     "nuid": "89098518-6384-4dc7-89a8-f781efeb1a47",
     "showTitle": false,
     "title": ""
    }
   },
   "outputs": [
    {
     "output_type": "execute_result",
     "data": {
      "text/plain": [
       "torch.Size([3, 3])"
      ]
     },
     "execution_count": 22,
     "metadata": {},
     "output_type": "execute_result"
    }
   ],
   "source": [
    "# Function .size(): checks the size of your tensor \n",
    "tns_1.size()"
   ]
  },
  {
   "cell_type": "code",
   "execution_count": 0,
   "metadata": {
    "application/vnd.databricks.v1+cell": {
     "cellMetadata": {
      "byteLimit": 2048000,
      "rowLimit": 10000
     },
     "inputWidgets": {},
     "nuid": "8f08320b-a1c4-455c-96ca-61261d43e13a",
     "showTitle": false,
     "title": ""
    }
   },
   "outputs": [
    {
     "output_type": "execute_result",
     "data": {
      "text/plain": [
       "tensor([[[-1.0195, -0.7448, -0.7202],\n",
       "         [ 0.0820, -1.5996,  1.5190]],\n",
       "\n",
       "        [[ 2.2088, -0.4026, -0.6872],\n",
       "         [ 0.4432, -1.5337, -1.1514]]], dtype=torch.float64)"
      ]
     },
     "execution_count": 23,
     "metadata": {},
     "output_type": "execute_result"
    }
   ],
   "source": [
    "# Creating a matrix with 3 dimensions\n",
    "tns_r = torch.randn(2, 2, 3).double()\n",
    "tns_r"
   ]
  },
  {
   "cell_type": "code",
   "execution_count": 0,
   "metadata": {
    "application/vnd.databricks.v1+cell": {
     "cellMetadata": {
      "byteLimit": 2048000,
      "rowLimit": 10000
     },
     "inputWidgets": {},
     "nuid": "cd8e51ce-d980-45d0-aa00-f4fe3f68ec95",
     "showTitle": false,
     "title": ""
    }
   },
   "outputs": [
    {
     "output_type": "execute_result",
     "data": {
      "text/plain": [
       "tensor([-1.0195, -0.7448, -0.7202,  0.0820, -1.5996,  1.5190,  2.2088, -0.4026,\n",
       "        -0.6872,  0.4432, -1.5337, -1.1514], dtype=torch.float64)"
      ]
     },
     "execution_count": 24,
     "metadata": {},
     "output_type": "execute_result"
    }
   ],
   "source": [
    "# Flattening the matrix dimensions to just one\n",
    "tns_r = tns_r.view(12) # The value 12 is because my matrix has 12 elements\n",
    "tns_r"
   ]
  },
  {
   "cell_type": "code",
   "execution_count": 0,
   "metadata": {
    "application/vnd.databricks.v1+cell": {
     "cellMetadata": {
      "byteLimit": 2048000,
      "rowLimit": 10000
     },
     "inputWidgets": {},
     "nuid": "598a4735-c111-41cb-a52a-0988f2075552",
     "showTitle": false,
     "title": ""
    }
   },
   "outputs": [
    {
     "output_type": "execute_result",
     "data": {
      "text/plain": [
       "tensor([[-1.0195, -0.7448, -0.7202],\n",
       "        [ 0.0820, -1.5996,  1.5190],\n",
       "        [ 2.2088, -0.4026, -0.6872],\n",
       "        [ 0.4432, -1.5337, -1.1514]], dtype=torch.float64)"
      ]
     },
     "execution_count": 25,
     "metadata": {},
     "output_type": "execute_result"
    }
   ],
   "source": [
    "# Defining new dimensions for my matrix\n",
    "tns_r = tns_r.view(4, 3)\n",
    "tns_r\n"
   ]
  },
  {
   "cell_type": "code",
   "execution_count": 0,
   "metadata": {
    "application/vnd.databricks.v1+cell": {
     "cellMetadata": {
      "byteLimit": 2048000,
      "rowLimit": 10000
     },
     "inputWidgets": {},
     "nuid": "9e909644-82e1-497d-ad30-fb3f11ebbb5f",
     "showTitle": false,
     "title": ""
    }
   },
   "outputs": [
    {
     "output_type": "execute_result",
     "data": {
      "text/plain": [
       "tensor([[[-1.0195, -0.7448],\n",
       "         [-0.7202,  0.0820]],\n",
       "\n",
       "        [[-1.5996,  1.5190],\n",
       "         [ 2.2088, -0.4026]],\n",
       "\n",
       "        [[-0.6872,  0.4432],\n",
       "         [-1.5337, -1.1514]]], dtype=torch.float64)"
      ]
     },
     "execution_count": 26,
     "metadata": {},
     "output_type": "execute_result"
    }
   ],
   "source": [
    "tns_r = tns_r.view(3, 2, 2)\n",
    "tns_r"
   ]
  },
  {
   "cell_type": "code",
   "execution_count": 0,
   "metadata": {
    "application/vnd.databricks.v1+cell": {
     "cellMetadata": {
      "byteLimit": 2048000,
      "rowLimit": 10000
     },
     "inputWidgets": {},
     "nuid": "59f46f7c-4ea5-4305-9a6e-119b1929082c",
     "showTitle": false,
     "title": ""
    }
   },
   "outputs": [
    {
     "output_type": "stream",
     "name": "stdout",
     "output_type": "stream",
     "text": [
      "tensor([[[-1.0195, -0.7448],\n         [-0.7202,  0.0820]],\n\n        [[-1.5996,  1.5190],\n         [ 2.2088, -0.4026]],\n\n        [[-0.6872,  0.4432],\n         [-1.5337, -1.1514]]], dtype=torch.float64)\n\n\ntensor([[-1.0195, -0.7448, -0.7202,  0.0820],\n        [-1.5996,  1.5190,  2.2088, -0.4026],\n        [-0.6872,  0.4432, -1.5337, -1.1514]], dtype=torch.float64)\n"
     ]
    }
   ],
   "source": [
    "# Negative indexing\n",
    "print(tns_r)\n",
    "print('\\n')\n",
    "tns_r = tns_r.view(tns_r.size(0), -1)\n",
    "print(tns_r)"
   ]
  },
  {
   "cell_type": "markdown",
   "metadata": {
    "application/vnd.databricks.v1+cell": {
     "cellMetadata": {
      "byteLimit": 2048000,
      "rowLimit": 10000
     },
     "inputWidgets": {},
     "nuid": "1479fc13-f2be-4780-9009-36177a9fe072",
     "showTitle": false,
     "title": ""
    }
   },
   "source": [
    "## GPU Cast"
   ]
  },
  {
   "cell_type": "markdown",
   "metadata": {
    "application/vnd.databricks.v1+cell": {
     "cellMetadata": {
      "byteLimit": 2048000,
      "rowLimit": 10000
     },
     "inputWidgets": {},
     "nuid": "e3a996fc-f786-4e1b-ae47-3622247058ea",
     "showTitle": false,
     "title": ""
    }
   },
   "source": [
    "#### To add the gpu resources we can use the following code:"
   ]
  },
  {
   "cell_type": "code",
   "execution_count": 0,
   "metadata": {
    "application/vnd.databricks.v1+cell": {
     "cellMetadata": {
      "byteLimit": 2048000,
      "rowLimit": 10000
     },
     "inputWidgets": {},
     "nuid": "be9db22d-067f-47e9-9d76-5810a6f31b8c",
     "showTitle": false,
     "title": ""
    }
   },
   "outputs": [
    {
     "output_type": "stream",
     "name": "stdout",
     "output_type": "stream",
     "text": [
      "cpu\n"
     ]
    }
   ],
   "source": [
    "if torch.cuda.is_available():\n",
    "    device = torch.device('cuda')\n",
    "else: \n",
    "    device = torch.device('cpu')\n",
    "print(device)"
   ]
  },
  {
   "cell_type": "markdown",
   "metadata": {
    "application/vnd.databricks.v1+cell": {
     "cellMetadata": {
      "byteLimit": 2048000,
      "rowLimit": 10000
     },
     "inputWidgets": {},
     "nuid": "77e53f85-0232-41fe-a945-8466d3157bf6",
     "showTitle": false,
     "title": ""
    }
   },
   "source": [
    "## Perceptron"
   ]
  },
  {
   "cell_type": "markdown",
   "metadata": {
    "application/vnd.databricks.v1+cell": {
     "cellMetadata": {
      "byteLimit": 2048000,
      "rowLimit": 10000
     },
     "inputWidgets": {},
     "nuid": "e5383542-205c-45d2-84e9-3518fb61d3d6",
     "showTitle": false,
     "title": ""
    }
   },
   "source": [
    "## Linear classification"
   ]
  },
  {
   "cell_type": "markdown",
   "metadata": {
    "application/vnd.databricks.v1+cell": {
     "cellMetadata": {
      "byteLimit": 2048000,
      "rowLimit": 10000
     },
     "inputWidgets": {},
     "nuid": "8d82f3a8-82c3-4675-bdf9-8720431ec2d2",
     "showTitle": false,
     "title": ""
    }
   },
   "source": [
    "## Equation of the straight line"
   ]
  },
  {
   "cell_type": "markdown",
   "metadata": {
    "application/vnd.databricks.v1+cell": {
     "cellMetadata": {
      "byteLimit": 2048000,
      "rowLimit": 10000
     },
     "inputWidgets": {},
     "nuid": "da4c53f5-b251-482c-8100-714d4e1740fa",
     "showTitle": false,
     "title": ""
    }
   },
   "source": [
    "ax + by + c\n",
    "\n",
    "y = (-a * x - c) /b"
   ]
  },
  {
   "cell_type": "code",
   "execution_count": 0,
   "metadata": {
    "application/vnd.databricks.v1+cell": {
     "cellMetadata": {
      "byteLimit": 2048000,
      "rowLimit": 10000
     },
     "inputWidgets": {},
     "nuid": "72c748ff-cd0f-45e2-8126-47d5e91eb92d",
     "showTitle": false,
     "title": ""
    }
   },
   "outputs": [],
   "source": [
    "# Creating a straight line\n",
    "a = -1\n",
    "b = 4\n",
    "c = 0.4\n",
    "\n",
    "x = np.linspace(-2, 4, 50) # Creating values for x, the values of x start at -2 and go up to 4 and have a total size of 50 values.\n",
    "y = (-a * x - c) / b"
   ]
  },
  {
   "cell_type": "code",
   "execution_count": 0,
   "metadata": {
    "application/vnd.databricks.v1+cell": {
     "cellMetadata": {
      "byteLimit": 2048000,
      "rowLimit": 10000
     },
     "inputWidgets": {},
     "nuid": "d2b0acc9-06e7-4fda-a1fe-dc832779e85c",
     "showTitle": false,
     "title": ""
    }
   },
   "outputs": [
    {
     "output_type": "execute_result",
     "data": {
      "text/plain": [
       "array([-2.        , -1.87755102, -1.75510204, -1.63265306, -1.51020408,\n",
       "       -1.3877551 , -1.26530612, -1.14285714, -1.02040816, -0.89795918,\n",
       "       -0.7755102 , -0.65306122, -0.53061224, -0.40816327, -0.28571429,\n",
       "       -0.16326531, -0.04081633,  0.08163265,  0.20408163,  0.32653061,\n",
       "        0.44897959,  0.57142857,  0.69387755,  0.81632653,  0.93877551,\n",
       "        1.06122449,  1.18367347,  1.30612245,  1.42857143,  1.55102041,\n",
       "        1.67346939,  1.79591837,  1.91836735,  2.04081633,  2.16326531,\n",
       "        2.28571429,  2.40816327,  2.53061224,  2.65306122,  2.7755102 ,\n",
       "        2.89795918,  3.02040816,  3.14285714,  3.26530612,  3.3877551 ,\n",
       "        3.51020408,  3.63265306,  3.75510204,  3.87755102,  4.        ])"
      ]
     },
     "execution_count": 30,
     "metadata": {},
     "output_type": "execute_result"
    }
   ],
   "source": [
    "# Values of x\n",
    "x"
   ]
  },
  {
   "cell_type": "code",
   "execution_count": 0,
   "metadata": {
    "application/vnd.databricks.v1+cell": {
     "cellMetadata": {
      "byteLimit": 2048000,
      "rowLimit": 10000
     },
     "inputWidgets": {},
     "nuid": "85250ee1-3d18-4f97-ac05-138f8c550ac7",
     "showTitle": false,
     "title": ""
    }
   },
   "outputs": [
    {
     "output_type": "execute_result",
     "data": {
      "text/plain": [
       "array([-0.6       , -0.56938776, -0.53877551, -0.50816327, -0.47755102,\n",
       "       -0.44693878, -0.41632653, -0.38571429, -0.35510204, -0.3244898 ,\n",
       "       -0.29387755, -0.26326531, -0.23265306, -0.20204082, -0.17142857,\n",
       "       -0.14081633, -0.11020408, -0.07959184, -0.04897959, -0.01836735,\n",
       "        0.0122449 ,  0.04285714,  0.07346939,  0.10408163,  0.13469388,\n",
       "        0.16530612,  0.19591837,  0.22653061,  0.25714286,  0.2877551 ,\n",
       "        0.31836735,  0.34897959,  0.37959184,  0.41020408,  0.44081633,\n",
       "        0.47142857,  0.50204082,  0.53265306,  0.56326531,  0.59387755,\n",
       "        0.6244898 ,  0.65510204,  0.68571429,  0.71632653,  0.74693878,\n",
       "        0.77755102,  0.80816327,  0.83877551,  0.86938776,  0.9       ])"
      ]
     },
     "execution_count": 31,
     "metadata": {},
     "output_type": "execute_result"
    }
   ],
   "source": [
    "# Values of y\n",
    "y"
   ]
  },
  {
   "cell_type": "markdown",
   "metadata": {
    "application/vnd.databricks.v1+cell": {
     "cellMetadata": {
      "byteLimit": 2048000,
      "rowLimit": 10000
     },
     "inputWidgets": {},
     "nuid": "96f360c9-ccb8-4b18-ad96-cba8e0de7090",
     "showTitle": false,
     "title": ""
    }
   },
   "source": [
    "## Defining function to plot graphs"
   ]
  },
  {
   "cell_type": "code",
   "execution_count": 0,
   "metadata": {
    "application/vnd.databricks.v1+cell": {
     "cellMetadata": {
      "byteLimit": 2048000,
      "rowLimit": 10000
     },
     "inputWidgets": {},
     "nuid": "8cbc6a6e-f251-4d15-ba5a-7b4f910f3dfa",
     "showTitle": false,
     "title": ""
    }
   },
   "outputs": [],
   "source": [
    "def plotline(a, b, c):\n",
    "\n",
    "    x = np.linspace(-2, 4, 50) # Creating values for x, the values of x start at -2 and go up to 4 and have a total size of 50 values.\n",
    "    y = (-a * x - c) / b\n",
    "    plt.axvline(0, -1, 1, color = 'k', linewidth = 1)\n",
    "    plt.axhline(0, -2, 4, color = 'k', linewidth = 1)\n",
    "    plt.plot(x, y)\n",
    "    plt.grid(True)"
   ]
  },
  {
   "cell_type": "code",
   "execution_count": 0,
   "metadata": {
    "application/vnd.databricks.v1+cell": {
     "cellMetadata": {
      "byteLimit": 2048000,
      "rowLimit": 10000
     },
     "inputWidgets": {},
     "nuid": "683e464b-add2-47da-a076-ce24359a7949",
     "showTitle": false,
     "title": ""
    }
   },
   "outputs": [
    {
     "output_type": "display_data",
     "data": {
      "image/png": "[encoded data removed]",
      "text/plain": [
       "<Figure size 640x480 with 1 Axes>"
      ]
     },
     "metadata": {},
     "output_type": "display_data"
    }
   ],
   "source": [
    "a = -1\n",
    "b = 4\n",
    "c = 0.4\n",
    "\n",
    "plotline(a, b, c)"
   ]
  },
  {
   "cell_type": "markdown",
   "metadata": {
    "application/vnd.databricks.v1+cell": {
     "cellMetadata": {
      "byteLimit": 2048000,
      "rowLimit": 10000
     },
     "inputWidgets": {},
     "nuid": "2abf7b15-056c-4c78-9036-6727a6888e69",
     "showTitle": false,
     "title": ""
    }
   },
   "source": [
    "## Checking the solution of this line for different points in space"
   ]
  },
  {
   "cell_type": "code",
   "execution_count": 0,
   "metadata": {
    "application/vnd.databricks.v1+cell": {
     "cellMetadata": {
      "byteLimit": 2048000,
      "rowLimit": 10000
     },
     "inputWidgets": {},
     "nuid": "a7b1c775-237c-47f7-aa60-a9d3a8623a06",
     "showTitle": false,
     "title": ""
    }
   },
   "outputs": [],
   "source": [
    "p1 = (2, 0.4)\n",
    "p2 = (1, 0.6)\n",
    "p3 = (3, -0.4)"
   ]
  },
  {
   "cell_type": "code",
   "execution_count": 0,
   "metadata": {
    "application/vnd.databricks.v1+cell": {
     "cellMetadata": {
      "byteLimit": 2048000,
      "rowLimit": 10000
     },
     "inputWidgets": {},
     "nuid": "b3ca907f-75cf-4d94-b1b8-a969b5a103b1",
     "showTitle": false,
     "title": ""
    }
   },
   "outputs": [
    {
     "output_type": "execute_result",
     "data": {
      "text/plain": [
       "[<matplotlib.lines.Line2D at 0x7f1a8aeda560>]"
      ]
     },
     "execution_count": 35,
     "metadata": {},
     "output_type": "execute_result"
    },
    {
     "output_type": "display_data",
     "data": {
      "image/png": "[encoded data removed]",
      "text/plain": [
       "<Figure size 640x480 with 1 Axes>"
      ]
     },
     "metadata": {},
     "output_type": "display_data"
    }
   ],
   "source": [
    "plotline(a, b, c)\n",
    "plt.plot(p1[0], p1[1], color = 'b', marker = 'o')\n",
    "plt.plot(p2[0], p2[1], color = 'r', marker = 'o')\n",
    "plt.plot(p3[0], p3[1], color = 'g', marker = 'o')"
   ]
  },
  {
   "cell_type": "code",
   "execution_count": 0,
   "metadata": {
    "application/vnd.databricks.v1+cell": {
     "cellMetadata": {
      "byteLimit": 2048000,
      "rowLimit": 10000
     },
     "inputWidgets": {},
     "nuid": "777e6d71-b8a9-48be-9893-018c20685969",
     "showTitle": false,
     "title": ""
    }
   },
   "outputs": [
    {
     "output_type": "stream",
     "name": "stdout",
     "output_type": "stream",
     "text": [
      "0.00\n1.80\n-4.20\n"
     ]
    }
   ],
   "source": [
    "# ax +  by + c = 0\n",
    "# P1\n",
    "ret1 = a * p1[0] + b * p1[1] + c\n",
    "print(f'{ret1:.2f}')\n",
    "#P2\n",
    "ret2 = a * p2[0] + b * p2[1] + c\n",
    "print(f'{ret2:.2f}')\n",
    "#P3\n",
    "ret2 = a * p3[0] + b * p3[1] + c\n",
    "print(f'{ret2:.2f}')"
   ]
  },
  {
   "cell_type": "markdown",
   "metadata": {
    "application/vnd.databricks.v1+cell": {
     "cellMetadata": {
      "byteLimit": 2048000,
      "rowLimit": 10000
     },
     "inputWidgets": {},
     "nuid": "42793e2e-2a10-4024-a178-4d5a7cc518d2",
     "showTitle": false,
     "title": ""
    }
   },
   "source": [
    "* *f(x)* = 0 define pontos na reta\n",
    "* *f(x)* > 0 define pontos acima da reta\n",
    "* *f(x)* < 0 define pontos abaixo da reta\n",
    "\n",
    "* calculation of weights in perceptron:\n",
    "\n",
    "y = w1 * x1 + w2 * x2 + b --- 2D\n",
    "\n",
    "y = w1 * x1 + w2 * x2 + w3 * x3 + b --- 3D \n",
    "\n",
    "y = w1 * x1 + w2 * x2 + w3 * x3 + w4 * x4 + b --- 4D "
   ]
  },
  {
   "cell_type": "markdown",
   "metadata": {
    "application/vnd.databricks.v1+cell": {
     "cellMetadata": {
      "byteLimit": 2048000,
      "rowLimit": 10000
     },
     "inputWidgets": {},
     "nuid": "eb966e9a-d04c-4e09-98eb-8557af02d20a",
     "showTitle": false,
     "title": ""
    }
   },
   "source": [
    "## Sklearn make_classification"
   ]
  },
  {
   "cell_type": "code",
   "execution_count": 0,
   "metadata": {
    "application/vnd.databricks.v1+cell": {
     "cellMetadata": {
      "byteLimit": 2048000,
      "rowLimit": 10000
     },
     "inputWidgets": {},
     "nuid": "e11d29e3-9b6a-4805-96f3-be65403f6eb1",
     "showTitle": false,
     "title": ""
    }
   },
   "outputs": [],
   "source": [
    "# Defining dataset using sklearn make_classification\n",
    "np.random.seed(46) # Defining a seed for the dataset\n",
    "X, Y = make_classification(n_features = 2, n_redundant = 0, n_informative = 1, n_clusters_per_class = 1)"
   ]
  },
  {
   "cell_type": "code",
   "execution_count": 0,
   "metadata": {
    "application/vnd.databricks.v1+cell": {
     "cellMetadata": {
      "byteLimit": 2048000,
      "rowLimit": 10000
     },
     "inputWidgets": {},
     "nuid": "eea195b7-2ae6-4223-9e54-014c126e9e78",
     "showTitle": false,
     "title": ""
    }
   },
   "outputs": [
    {
     "output_type": "stream",
     "name": "stdout",
     "output_type": "stream",
     "text": [
      "(100, 2) (100,)\n"
     ]
    }
   ],
   "source": [
    "# Dataset size\n",
    "print(X.shape, Y.shape)"
   ]
  },
  {
   "cell_type": "code",
   "execution_count": 0,
   "metadata": {
    "application/vnd.databricks.v1+cell": {
     "cellMetadata": {
      "byteLimit": 2048000,
      "rowLimit": 10000
     },
     "inputWidgets": {},
     "nuid": "f0035348-5295-4f96-a691-4424d8f725bf",
     "showTitle": false,
     "title": ""
    }
   },
   "outputs": [
    {
     "output_type": "stream",
     "name": "stdout",
     "output_type": "stream",
     "text": [
      "The classe is: 0\n"
     ]
    },
    {
     "output_type": "display_data",
     "data": {
      "image/png": "[encoded data removed]",
      "text/plain": [
       "<Figure size 640x480 with 1 Axes>"
      ]
     },
     "metadata": {},
     "output_type": "display_data"
    }
   ],
   "source": [
    "plt.scatter(x = X[:, 0], y = X[:, 1], marker = 'o', c = Y, edgecolors = 'k')\n",
    "p = X[10]\n",
    "plt.plot(p[0], p[1], marker = '^', markersize = 15)\n",
    "print(f'The classe is: {Y[10]}')"
   ]
  },
  {
   "cell_type": "markdown",
   "metadata": {
    "application/vnd.databricks.v1+cell": {
     "cellMetadata": {
      "byteLimit": 2048000,
      "rowLimit": 10000
     },
     "inputWidgets": {},
     "nuid": "cf0cb8e5-4f6a-47bd-aa9f-19be39622160",
     "showTitle": false,
     "title": ""
    }
   },
   "source": [
    "## Creating function to plot the model"
   ]
  },
  {
   "cell_type": "code",
   "execution_count": 0,
   "metadata": {
    "application/vnd.databricks.v1+cell": {
     "cellMetadata": {
      "byteLimit": 2048000,
      "rowLimit": 10000
     },
     "inputWidgets": {},
     "nuid": "16a28628-43b4-4cc3-a409-4481d52b6605",
     "showTitle": false,
     "title": ""
    }
   },
   "outputs": [],
   "source": [
    "def plotmodel(w1, w2, b):\n",
    "    # Plotting the datasets\n",
    "    plt.scatter(x = X[:, 0], y = X[:, 1], marker = 'o', c = Y, edgecolors = 'k')  \n",
    "    \n",
    "    # Minimum and maximum limits of each axis to fix the graph in the distribution\n",
    "    xmin, xmax = plt.gca().get_xlim()\n",
    "    ymin, ymax = plt.gca().get_ylim()\n",
    "\n",
    "    # Model \n",
    "    x = np.linspace(-2, 4, 50) # Creating values for x, the values of x start at -2 and go up to 4 and have a total size of 50 values.\n",
    "    y = (-w1 * x - b) / w2\n",
    "\n",
    "    plt.axvline(0, -1, 2, color = 'black', linewidth = 1)\n",
    "    plt.axhline(0, -2, 4, color = 'black', linewidth = 1)\n",
    "\n",
    "    plt.plot(x, y)\n",
    "    plt.grid(True)\n",
    "    plt.xlim(xmin, xmax)\n",
    "    plt.ylim(ymin, ymax)\n",
    "    "
   ]
  },
  {
   "cell_type": "markdown",
   "metadata": {
    "application/vnd.databricks.v1+cell": {
     "cellMetadata": {
      "byteLimit": 2048000,
      "rowLimit": 10000
     },
     "inputWidgets": {},
     "nuid": "acc678b6-83c4-4411-a9db-1abd69a0f5b7",
     "showTitle": false,
     "title": ""
    }
   },
   "source": [
    "## Initializing with random weights"
   ]
  },
  {
   "cell_type": "code",
   "execution_count": 0,
   "metadata": {
    "application/vnd.databricks.v1+cell": {
     "cellMetadata": {
      "byteLimit": 2048000,
      "rowLimit": 10000
     },
     "inputWidgets": {},
     "nuid": "41efd660-715e-4ef3-86b0-c8abddeb5759",
     "showTitle": false,
     "title": ""
    }
   },
   "outputs": [
    {
     "output_type": "display_data",
     "data": {
      "image/png": "[encoded data removed]",
      "text/plain": [
       "<Figure size 640x480 with 1 Axes>"
      ]
     },
     "metadata": {},
     "output_type": "display_data"
    }
   ],
   "source": [
    "w1 = 1 # a\n",
    "w2 = 2 # b\n",
    "b =  1 # c\n",
    "plotmodel(w1, w2, b)"
   ]
  },
  {
   "cell_type": "markdown",
   "metadata": {
    "application/vnd.databricks.v1+cell": {
     "cellMetadata": {
      "byteLimit": 2048000,
      "rowLimit": 10000
     },
     "inputWidgets": {},
     "nuid": "d57c07ac-dadc-44b1-81f0-10e17ad09ba8",
     "showTitle": false,
     "title": ""
    }
   },
   "source": [
    "## Adjusting model"
   ]
  },
  {
   "cell_type": "code",
   "execution_count": 0,
   "metadata": {
    "application/vnd.databricks.v1+cell": {
     "cellMetadata": {
      "byteLimit": 2048000,
      "rowLimit": 10000
     },
     "inputWidgets": {},
     "nuid": "559c34c7-a9bd-442e-b827-e6506a481f3a",
     "showTitle": false,
     "title": ""
    }
   },
   "outputs": [
    {
     "output_type": "display_data",
     "data": {
      "image/png": "[encoded data removed]",
      "text/plain": [
       "<Figure size 640x480 with 1 Axes>"
      ]
     },
     "metadata": {},
     "output_type": "display_data"
    }
   ],
   "source": [
    "w1 = 5 # a\n",
    "w2 = 1 # b\n",
    "b =  -0.4 # c\n",
    "plotmodel(w1, w2, b)"
   ]
  },
  {
   "cell_type": "code",
   "execution_count": 0,
   "metadata": {
    "application/vnd.databricks.v1+cell": {
     "cellMetadata": {
      "byteLimit": 2048000,
      "rowLimit": 10000
     },
     "inputWidgets": {},
     "nuid": "768e6d61-ee3a-4100-ae46-f7f8fb2099e1",
     "showTitle": false,
     "title": ""
    }
   },
   "outputs": [
    {
     "output_type": "stream",
     "name": "stdout",
     "output_type": "stream",
     "text": [
      "-4.4\n"
     ]
    }
   ],
   "source": [
    "# Checking classes based on blue or yellow colors\n",
    "p = (-1, 1)\n",
    "print(w1 * p[0] + w2 * p[1] + b) \n",
    "# The point p is equivalent to the blue class, the equation returns a negative value so it is below the straight line\n",
    "# The yellow classes are above the line and the blue classes are below the line"
   ]
  },
  {
   "cell_type": "markdown",
   "metadata": {
    "application/vnd.databricks.v1+cell": {
     "cellMetadata": {
      "byteLimit": 2048000,
      "rowLimit": 10000
     },
     "inputWidgets": {},
     "nuid": "720ba29e-d6f0-40ae-9211-05e858ca69fc",
     "showTitle": false,
     "title": ""
    }
   },
   "source": [
    "## Creating function to classify"
   ]
  },
  {
   "cell_type": "code",
   "execution_count": 0,
   "metadata": {
    "application/vnd.databricks.v1+cell": {
     "cellMetadata": {
      "byteLimit": 2048000,
      "rowLimit": 10000
     },
     "inputWidgets": {},
     "nuid": "2b0edfa3-0c79-4d32-93b2-137d6e937622",
     "showTitle": false,
     "title": ""
    }
   },
   "outputs": [],
   "source": [
    "def classify(p, w1, w2, b):\n",
    "    ret = w1 * p[0] + w2 * p[1] + b\n",
    "\n",
    "    if ret >= 0:\n",
    "        return 1, 'yellow'\n",
    "    else:\n",
    "        return 0, 'blue'"
   ]
  },
  {
   "cell_type": "code",
   "execution_count": 0,
   "metadata": {
    "application/vnd.databricks.v1+cell": {
     "cellMetadata": {
      "byteLimit": 2048000,
      "rowLimit": 10000
     },
     "inputWidgets": {},
     "nuid": "75f9bd0c-9fe6-4667-a869-c7481a06b8cf",
     "showTitle": false,
     "title": ""
    }
   },
   "outputs": [
    {
     "output_type": "stream",
     "name": "stdout",
     "output_type": "stream",
     "text": [
      "The Class is: 1\n"
     ]
    },
    {
     "output_type": "display_data",
     "data": {
      "image/png": "[encoded data removed]",
      "text/plain": [
       "<Figure size 640x480 with 1 Axes>"
      ]
     },
     "metadata": {},
     "output_type": "display_data"
    }
   ],
   "source": [
    "# Classifying a point generated in space\n",
    "w1 = 5 # a\n",
    "w2 = 1 # b\n",
    "b =  -0.3 # c\n",
    "p = (2, -1)\n",
    "\n",
    "class_p, color_p = classify(p, w1, w2, b)\n",
    "plotmodel(w1, w2, b)\n",
    "plt.plot(p[0], p[1], marker = '^', color = color_p, markersize = 15)\n",
    "print(f'The Class is: {class_p}')"
   ]
  },
  {
   "cell_type": "markdown",
   "metadata": {
    "application/vnd.databricks.v1+cell": {
     "cellMetadata": {
      "byteLimit": 2048000,
      "rowLimit": 10000
     },
     "inputWidgets": {},
     "nuid": "40f1e3ac-0c22-42f4-9136-3a33ed264ea6",
     "showTitle": false,
     "title": ""
    }
   },
   "source": [
    "## Classifying the dataset"
   ]
  },
  {
   "cell_type": "code",
   "execution_count": 0,
   "metadata": {
    "application/vnd.databricks.v1+cell": {
     "cellMetadata": {
      "byteLimit": 2048000,
      "rowLimit": 10000
     },
     "inputWidgets": {},
     "nuid": "dc6d4221-99b2-49cb-a37f-9c4a9fb4845d",
     "showTitle": false,
     "title": ""
    }
   },
   "outputs": [
    {
     "output_type": "stream",
     "name": "stdout",
     "output_type": "stream",
     "text": [
      "Score: 87%\nError: 13%\n"
     ]
    }
   ],
   "source": [
    "score = 0\n",
    "error = 0\n",
    "for k in range(len(X)):\n",
    "    categ, _ = classify(X[k], w1, w2, b)\n",
    "    if categ == Y[k]:\n",
    "        score += 1\n",
    "    else:\n",
    "        error += 1\n",
    "print(f'Score: {(score / len(X)) * 100:.0f}%')\n",
    "print(f'Error: {(error / len(X)) * 100:.0f}%')"
   ]
  },
  {
   "cell_type": "markdown",
   "metadata": {
    "application/vnd.databricks.v1+cell": {
     "cellMetadata": {
      "byteLimit": 2048000,
      "rowLimit": 10000
     },
     "inputWidgets": {},
     "nuid": "dd9ee172-c2d7-4494-bc25-bc463109b3b2",
     "showTitle": false,
     "title": ""
    }
   },
   "source": [
    "## Pytorch neural networks"
   ]
  },
  {
   "cell_type": "code",
   "execution_count": 0,
   "metadata": {
    "application/vnd.databricks.v1+cell": {
     "cellMetadata": {
      "byteLimit": 2048000,
      "rowLimit": 10000
     },
     "inputWidgets": {},
     "nuid": "f728c6b8-6eb4-4222-8102-8b2212029377",
     "showTitle": false,
     "title": ""
    }
   },
   "outputs": [
    {
     "output_type": "stream",
     "name": "stdout",
     "output_type": "stream",
     "text": [
      "Linear(in_features=3, out_features=1, bias=True)\n"
     ]
    }
   ],
   "source": [
    "# Creating a perceptron\n",
    "torch.manual_seed(42) # Defining Seed of perceptron\n",
    "perceptron = nn.Linear(in_features = 3, out_features = 1, bias = True) # Perceptron with 3 inputs and one output\n",
    "print(perceptron)"
   ]
  },
  {
   "cell_type": "code",
   "execution_count": 0,
   "metadata": {
    "application/vnd.databricks.v1+cell": {
     "cellMetadata": {
      "byteLimit": 2048000,
      "rowLimit": 10000
     },
     "inputWidgets": {},
     "nuid": "f7c3bad0-adf6-43c1-b232-eb5fbf69d291",
     "showTitle": false,
     "title": ""
    }
   },
   "outputs": [
    {
     "output_type": "stream",
     "name": "stdout",
     "output_type": "stream",
     "text": [
      "weight Parameter containing:\ntensor([[ 0.4414,  0.4792, -0.1353]], requires_grad=True)\n\n\nbias Parameter containing:\ntensor([0.5304], requires_grad=True)\n\n\n"
     ]
    }
   ],
   "source": [
    "# Checking perceptron parameters\n",
    "for name, tensor in perceptron.named_parameters():\n",
    "    print(name, tensor)\n",
    "    print('\\n')"
   ]
  },
  {
   "cell_type": "code",
   "execution_count": 0,
   "metadata": {
    "application/vnd.databricks.v1+cell": {
     "cellMetadata": {
      "byteLimit": 2048000,
      "rowLimit": 10000
     },
     "inputWidgets": {},
     "nuid": "457ac650-e27b-4bbd-9ccd-aae7100cf09f",
     "showTitle": false,
     "title": ""
    }
   },
   "outputs": [
    {
     "output_type": "execute_result",
     "data": {
      "text/plain": [
       "tensor([[ 0.4414,  0.4792, -0.1353]])"
      ]
     },
     "execution_count": 49,
     "metadata": {},
     "output_type": "execute_result"
    }
   ],
   "source": [
    "# Weight\n",
    "perceptron.weight.data"
   ]
  },
  {
   "cell_type": "code",
   "execution_count": 0,
   "metadata": {
    "application/vnd.databricks.v1+cell": {
     "cellMetadata": {
      "byteLimit": 2048000,
      "rowLimit": 10000
     },
     "inputWidgets": {},
     "nuid": "520e606d-a2d7-424a-acb5-1a780e1b5222",
     "showTitle": false,
     "title": ""
    }
   },
   "outputs": [
    {
     "output_type": "execute_result",
     "data": {
      "text/plain": [
       "tensor([0.5304])"
      ]
     },
     "execution_count": 50,
     "metadata": {},
     "output_type": "execute_result"
    }
   ],
   "source": [
    "# Bias\n",
    "perceptron.bias.data"
   ]
  },
  {
   "cell_type": "markdown",
   "metadata": {
    "application/vnd.databricks.v1+cell": {
     "cellMetadata": {
      "byteLimit": 2048000,
      "rowLimit": 10000
     },
     "inputWidgets": {},
     "nuid": "3110f5d0-7217-4788-8e7d-fade76983a38",
     "showTitle": false,
     "title": ""
    }
   },
   "source": [
    "## Collecting perceptron data"
   ]
  },
  {
   "cell_type": "code",
   "execution_count": 0,
   "metadata": {
    "application/vnd.databricks.v1+cell": {
     "cellMetadata": {
      "byteLimit": 2048000,
      "rowLimit": 10000
     },
     "inputWidgets": {},
     "nuid": "96307445-dc55-40d0-89d7-99e11a4664e5",
     "showTitle": false,
     "title": ""
    }
   },
   "outputs": [
    {
     "output_type": "execute_result",
     "data": {
      "text/plain": [
       "(0.44140652, 0.47920528, -0.13525727)"
      ]
     },
     "execution_count": 51,
     "metadata": {},
     "output_type": "execute_result"
    }
   ],
   "source": [
    "# Model equation:  w1 * x1 + w2 * x2 + w3 * x3 + b = 0\n",
    "w1, w2, w3 =  perceptron.weight.data.numpy()[0]\n",
    "w1, w2, w3"
   ]
  },
  {
   "cell_type": "code",
   "execution_count": 0,
   "metadata": {
    "application/vnd.databricks.v1+cell": {
     "cellMetadata": {
      "byteLimit": 2048000,
      "rowLimit": 10000
     },
     "inputWidgets": {},
     "nuid": "f5196ce1-becf-48ac-8eb9-15efd211b963",
     "showTitle": false,
     "title": ""
    }
   },
   "outputs": [
    {
     "output_type": "execute_result",
     "data": {
      "text/plain": [
       "array([0.53036046], dtype=float32)"
      ]
     },
     "execution_count": 52,
     "metadata": {},
     "output_type": "execute_result"
    }
   ],
   "source": [
    "b  = perceptron.bias.data.numpy()\n",
    "b"
   ]
  },
  {
   "cell_type": "markdown",
   "metadata": {
    "application/vnd.databricks.v1+cell": {
     "cellMetadata": {
      "byteLimit": 2048000,
      "rowLimit": 10000
     },
     "inputWidgets": {},
     "nuid": "824c4b94-0561-4415-8eae-1bfaf9cfa4cd",
     "showTitle": false,
     "title": ""
    }
   },
   "source": [
    "## Visualizing the perceptron"
   ]
  },
  {
   "cell_type": "code",
   "execution_count": 0,
   "metadata": {
    "application/vnd.databricks.v1+cell": {
     "cellMetadata": {
      "byteLimit": 2048000,
      "rowLimit": 10000
     },
     "inputWidgets": {},
     "nuid": "52f7520b-d123-46a3-815b-249d5b0bdb11",
     "showTitle": false,
     "title": ""
    }
   },
   "outputs": [],
   "source": [
    "def plot3D(perceptron):\n",
    "    \n",
    "    ## Collecting perceptron data\n",
    "    w1, w2, w3 =  perceptron.weight.data.numpy()[0]\n",
    "    b  = perceptron.bias.data.numpy()\n",
    "    \n",
    "    X1 = np.linspace(-1, 1, 10)\n",
    "    X2 = np.linspace(-1, 1, 10)\n",
    "    \n",
    "    X1, X2 = np.meshgrid(X1, X2)\n",
    "    \n",
    "    X3 = (b - w1 * X1 - w2 * X2) / w3\n",
    "\n",
    "\n",
    "    fig = plt.figure(figsize = (10, 8))\n",
    "    ax = fig.add_subplot(projection='3d')\n",
    "    ax.view_init(azim = 180)\n",
    "\n",
    "    ax.plot_surface(X1, X2, X3, cmap = 'plasma')\n"
   ]
  },
  {
   "cell_type": "code",
   "execution_count": 0,
   "metadata": {
    "application/vnd.databricks.v1+cell": {
     "cellMetadata": {
      "byteLimit": 2048000,
      "rowLimit": 10000
     },
     "inputWidgets": {},
     "nuid": "6e31a8c6-e925-480c-afc2-dd6b300e71dd",
     "showTitle": false,
     "title": ""
    }
   },
   "outputs": [
    {
     "output_type": "display_data",
     "data": {
      "image/png": "[encoded data removed]",
      "text/plain": [
       "<Figure size 1000x800 with 1 Axes>"
      ]
     },
     "metadata": {},
     "output_type": "display_data"
    }
   ],
   "source": [
    "plot3D(perceptron)"
   ]
  },
  {
   "cell_type": "markdown",
   "metadata": {
    "application/vnd.databricks.v1+cell": {
     "cellMetadata": {
      "byteLimit": 2048000,
      "rowLimit": 10000
     },
     "inputWidgets": {},
     "nuid": "ddaea88e-1713-440c-a35c-49c32d21fe06",
     "showTitle": false,
     "title": ""
    }
   },
   "source": [
    "## Activation functions"
   ]
  },
  {
   "cell_type": "markdown",
   "metadata": {
    "application/vnd.databricks.v1+cell": {
     "cellMetadata": {
      "byteLimit": 2048000,
      "rowLimit": 10000
     },
     "inputWidgets": {},
     "nuid": "7bf3884c-ce17-48b6-bb52-be890c9cd44a",
     "showTitle": false,
     "title": ""
    }
   },
   "source": [
    "* In an abstract way, a neuron interprets its inputs and releases an activation with a certain strength.\n",
    "\n",
    "* The role of the activation function is to define whether the neuron will activate and what its activation strength will be."
   ]
  },
  {
   "cell_type": "markdown",
   "metadata": {
    "application/vnd.databricks.v1+cell": {
     "cellMetadata": {
      "byteLimit": 2048000,
      "rowLimit": 10000
     },
     "inputWidgets": {},
     "nuid": "405362b2-e461-4b81-83e8-9abd534a469d",
     "showTitle": false,
     "title": ""
    }
   },
   "source": [
    "### Activation functions types:\n",
    "\n",
    "* Linear: The linear function is limited to these two states {0, 1}, like a switch.\n",
    "\n",
    "* Sigmoid: Allows the neuron to activate with different strengths. It defines a range of [0, 1], but can take on any value within that range.\n",
    "\n",
    "*Note: Functions like sigmoid let you know the certainty of perceptron."
   ]
  },
  {
   "cell_type": "markdown",
   "metadata": {
    "application/vnd.databricks.v1+cell": {
     "cellMetadata": {
      "byteLimit": 2048000,
      "rowLimit": 10000
     },
     "inputWidgets": {},
     "nuid": "c7d851d9-57be-45ca-b6ad-4b8acc7994bb",
     "showTitle": false,
     "title": ""
    }
   },
   "source": [
    "### Most popular activation functions:\n",
    "\n",
    "* Linear\n",
    "\n",
    "* Sigmoid\n",
    "\n",
    "* Tanh\n",
    "\n",
    "* Relu"
   ]
  },
  {
   "cell_type": "markdown",
   "metadata": {
    "application/vnd.databricks.v1+cell": {
     "cellMetadata": {
      "byteLimit": 2048000,
      "rowLimit": 10000
     },
     "inputWidgets": {},
     "nuid": "88640f46-be2b-480b-a87b-4be4859cb32a",
     "showTitle": false,
     "title": ""
    }
   },
   "source": [
    "## Testing functions"
   ]
  },
  {
   "cell_type": "code",
   "execution_count": 0,
   "metadata": {
    "application/vnd.databricks.v1+cell": {
     "cellMetadata": {
      "byteLimit": 2048000,
      "rowLimit": 10000
     },
     "inputWidgets": {},
     "nuid": "3b9ff3f8-9a69-42a1-b6ed-0f839401cbee",
     "showTitle": false,
     "title": ""
    }
   },
   "outputs": [],
   "source": [
    "np.random.seed(46)\n",
    "X, Y = make_classification(n_features = 2, n_redundant = 0, n_informative = 1, n_clusters_per_class = 1)"
   ]
  },
  {
   "cell_type": "code",
   "execution_count": 0,
   "metadata": {
    "application/vnd.databricks.v1+cell": {
     "cellMetadata": {
      "byteLimit": 2048000,
      "rowLimit": 10000
     },
     "inputWidgets": {},
     "nuid": "950cc065-a9cb-420e-b65f-09ee5a0ddc80",
     "showTitle": false,
     "title": ""
    }
   },
   "outputs": [
    {
     "output_type": "stream",
     "name": "stdout",
     "output_type": "stream",
     "text": [
      "tensor([[5., 1.]])\ntensor([-0.3000])\n"
     ]
    }
   ],
   "source": [
    "# Creating a perceptron the model\n",
    "perceptron = nn.Linear(in_features = 2, out_features = 1, bias = True)\n",
    "\n",
    "# Creating activation functions\n",
    "\n",
    "sigmoid = nn.Sigmoid()\n",
    "tanh = nn.Tanh()\n",
    "relu = nn.ReLU()\n",
    "\n",
    "# Defining weights and bias\n",
    "w1 = 5 # a\n",
    "w2 = 1 # b\n",
    "b = -0.3 # c\n",
    "\n",
    "perceptron.weight = nn.Parameter(torch.Tensor([[w1, w2]]))\n",
    "perceptron.bias = nn.Parameter(torch.Tensor([b]))\n",
    "\n",
    "print(perceptron.weight.data)\n",
    "print(perceptron.bias.data)"
   ]
  },
  {
   "cell_type": "code",
   "execution_count": 0,
   "metadata": {
    "application/vnd.databricks.v1+cell": {
     "cellMetadata": {
      "byteLimit": 2048000,
      "rowLimit": 10000
     },
     "inputWidgets": {},
     "nuid": "94a17209-7864-4bbd-a236-1ab46b066869",
     "showTitle": false,
     "title": ""
    }
   },
   "outputs": [
    {
     "output_type": "display_data",
     "data": {
      "image/png": "[encoded data removed]",
      "text/plain": [
       "<Figure size 800x600 with 1 Axes>"
      ]
     },
     "metadata": {},
     "output_type": "display_data"
    }
   ],
   "source": [
    "# plotting model\n",
    "markers = ['^', 'v', '>', '<']\n",
    "colors = ['r', 'g', 'y', 'gray']\n",
    "plt.figure(figsize = (8, 6))\n",
    "plotmodel(w1, w2, b)\n",
    "\n",
    "for k, indx in enumerate([17, 21, 43, 66]):\n",
    "    x = torch.Tensor(X[indx])\n",
    "    ret = perceptron(x)\n",
    "\n",
    "    # Activations\n",
    "    activation_Linear = 0 if ret.data < 0 else 1\n",
    "    activation_Sigmoid = sigmoid(ret)\n",
    "    activation_Tanh = tanh(ret)\n",
    "    activation_ReLU = relu(ret)\n",
    "\n",
    "    label = f'Ret perceptron: {ret.data.numpy()[0]:5.2f} Linear: {activation_Linear:5.2f} Sigmoid: {activation_Sigmoid.data.numpy()[0]:5.2f} Tanh: {activation_Tanh.data.numpy()[0]:5.2f} ReLU: {activation_ReLU.data.numpy()[0]:5.2f}'\n",
    "\n",
    "    plt.plot(x[0], x[1], marker = markers[k], color = colors[k], markersize = 10, label = label)\n",
    "\n",
    "plt.legend()\n",
    "plt.show()\n"
   ]
  },
  {
   "cell_type": "markdown",
   "metadata": {
    "application/vnd.databricks.v1+cell": {
     "cellMetadata": {
      "byteLimit": 2048000,
      "rowLimit": 10000
     },
     "inputWidgets": {},
     "nuid": "a5608954-1aaa-4081-a6ca-eebb12e4c7fd",
     "showTitle": false,
     "title": ""
    }
   },
   "source": [
    "## Multiple perceptrons in one layer\n",
    "\n",
    "* A widely used concept is to have a neuron or perceptron for each category/classes.\n",
    "\n",
    "* perceptron_input = input(input dimensions)\n",
    "\n",
    "* perceptron_output = input(output dimensions)"
   ]
  },
  {
   "cell_type": "markdown",
   "metadata": {
    "application/vnd.databricks.v1+cell": {
     "cellMetadata": {
      "byteLimit": 2048000,
      "rowLimit": 10000
     },
     "inputWidgets": {},
     "nuid": "4d31bad7-79d6-4498-8fd8-0a54481d28cb",
     "showTitle": false,
     "title": ""
    }
   },
   "source": [
    "## Function Softmax\n",
    "\n",
    "* For classification problems with multiple categories, the softmax function is applied to the output of the output layer. It transforms the individual perceptron scores into a probability distribution.\n",
    "\n",
    "* Whenever you activate your output with Softmax, the sum of the values of this output will always be = 1."
   ]
  },
  {
   "cell_type": "markdown",
   "metadata": {
    "application/vnd.databricks.v1+cell": {
     "cellMetadata": {
      "byteLimit": 2048000,
      "rowLimit": 10000
     },
     "inputWidgets": {},
     "nuid": "3d48b816-8b16-41bf-ad76-4dad37158b54",
     "showTitle": false,
     "title": ""
    }
   },
   "source": [
    "## Multiple Layers (MLP\n",
    "\n",
    "* Multi-layer networks are effective for non-linearly separable problems."
   ]
  },
  {
   "cell_type": "markdown",
   "metadata": {
    "application/vnd.databricks.v1+cell": {
     "cellMetadata": {
      "byteLimit": 2048000,
      "rowLimit": 10000
     },
     "inputWidgets": {},
     "nuid": "a8b874bb-8a80-4b5e-b5ed-763664032e51",
     "showTitle": false,
     "title": ""
    }
   },
   "source": [
    "\n",
    "## XOR\n",
    "\n",
    "* A != B = True\n",
    "\n",
    "* -A -B = 0\n",
    "\n",
    "* -A +B = 1\n",
    "\n",
    "* +A -B = 1\n",
    "\n",
    "* +A +B = 0"
   ]
  },
  {
   "cell_type": "markdown",
   "metadata": {
    "application/vnd.databricks.v1+cell": {
     "cellMetadata": {
      "byteLimit": 2048000,
      "rowLimit": 10000
     },
     "inputWidgets": {},
     "nuid": "f3eb88ad-6282-40ae-a180-723a31aed201",
     "showTitle": false,
     "title": ""
    }
   },
   "source": [
    "## Multiple layers perceptron\n",
    "\n",
    "### Input layers > Hidden layers (intermediate layers) > Output layers\n",
    "\n",
    "* Hidden layers (intermediate layers): These layers must have non-linear activations.\n"
   ]
  },
  {
   "cell_type": "markdown",
   "metadata": {
    "application/vnd.databricks.v1+cell": {
     "cellMetadata": {
      "byteLimit": 2048000,
      "rowLimit": 10000
     },
     "inputWidgets": {},
     "nuid": "32508cf2-d19c-48c9-9cd7-aa231fc9db10",
     "showTitle": false,
     "title": ""
    }
   },
   "source": [
    "## Backpropagation Algorithm\n",
    "\n",
    "* The algorithm propagates the error to the neurons.\n"
   ]
  },
  {
   "cell_type": "markdown",
   "metadata": {
    "application/vnd.databricks.v1+cell": {
     "cellMetadata": {
      "byteLimit": 2048000,
      "rowLimit": 10000
     },
     "inputWidgets": {},
     "nuid": "03ecffdc-c30b-411a-85b5-d86dcd570c95",
     "showTitle": false,
     "title": ""
    }
   },
   "source": [
    "## Code in pytorch to solve an XOR problem."
   ]
  },
  {
   "cell_type": "markdown",
   "metadata": {
    "application/vnd.databricks.v1+cell": {
     "cellMetadata": {
      "byteLimit": 2048000,
      "rowLimit": 10000
     },
     "inputWidgets": {},
     "nuid": "772be20a-d017-4cb1-9d3f-602122de9ca4",
     "showTitle": false,
     "title": ""
    }
   },
   "source": [
    "nn.Linear(in_features = 2, out_features = 6)\n",
    "\n",
    "nn.Relu()\n",
    "\n",
    "nn.Linear(in_features = 6, out_features = 1)\n",
    "\n",
    "nn.Sigmoid()"
   ]
  },
  {
   "cell_type": "markdown",
   "metadata": {
    "application/vnd.databricks.v1+cell": {
     "cellMetadata": {
      "byteLimit": 2048000,
      "rowLimit": 10000
     },
     "inputWidgets": {},
     "nuid": "54fcef48-4f5b-422e-9c75-c845e23ce902",
     "showTitle": false,
     "title": ""
    }
   },
   "source": [
    "## Universal approximation theorem"
   ]
  },
  {
   "cell_type": "markdown",
   "metadata": {
    "application/vnd.databricks.v1+cell": {
     "cellMetadata": {
      "byteLimit": 2048000,
      "rowLimit": 10000
     },
     "inputWidgets": {},
     "nuid": "c43786b9-12c3-40d1-b70e-33b501804a17",
     "showTitle": false,
     "title": ""
    }
   },
   "source": [
    "* A neural network with just one hidden or intermediate layer is **Enough to represent any function**, but the layer can be unfeasibly large and may fail to learn and generalize correctly.\n",
    "\n",
    "* Uma rede neural com apenas uma camada escondida ou intermediária é **Suficiente para representar qualquer função**, mas a camada poder inviavelmente grande e pode falhar em aprender e generalizar corretamente."
   ]
  },
  {
   "cell_type": "markdown",
   "metadata": {
    "application/vnd.databricks.v1+cell": {
     "cellMetadata": {
      "byteLimit": 2048000,
      "rowLimit": 10000
     },
     "inputWidgets": {},
     "nuid": "4e3cbd74-0a93-4704-9a8c-ed93399daba4",
     "showTitle": false,
     "title": ""
    }
   },
   "source": [
    "## Defining an architecture in Pytorch"
   ]
  },
  {
   "cell_type": "code",
   "execution_count": 0,
   "metadata": {
    "application/vnd.databricks.v1+cell": {
     "cellMetadata": {
      "byteLimit": 2048000,
      "rowLimit": 10000
     },
     "inputWidgets": {},
     "nuid": "ed9a5709-a32b-489a-87d0-204bace36b43",
     "showTitle": false,
     "title": ""
    }
   },
   "outputs": [],
   "source": [
    "# Loading Data\n",
    "X, Y = make_moons(n_samples = 300, noise = 0.2)"
   ]
  },
  {
   "cell_type": "code",
   "execution_count": 0,
   "metadata": {
    "application/vnd.databricks.v1+cell": {
     "cellMetadata": {
      "byteLimit": 2048000,
      "rowLimit": 10000
     },
     "inputWidgets": {},
     "nuid": "27643157-e587-4db5-a64d-6e6355f549a7",
     "showTitle": false,
     "title": ""
    }
   },
   "outputs": [
    {
     "output_type": "stream",
     "name": "stdout",
     "output_type": "stream",
     "text": [
      "(300, 2) (300,)\n"
     ]
    }
   ],
   "source": [
    "print(X.shape, Y.shape)"
   ]
  },
  {
   "cell_type": "markdown",
   "metadata": {
    "application/vnd.databricks.v1+cell": {
     "cellMetadata": {
      "byteLimit": 2048000,
      "rowLimit": 10000
     },
     "inputWidgets": {},
     "nuid": "ad9b1cac-a3af-4a33-a236-5ce6170c8987",
     "showTitle": false,
     "title": ""
    }
   },
   "source": [
    "## Visualizing data"
   ]
  },
  {
   "cell_type": "code",
   "execution_count": 0,
   "metadata": {
    "application/vnd.databricks.v1+cell": {
     "cellMetadata": {
      "byteLimit": 2048000,
      "rowLimit": 10000
     },
     "inputWidgets": {},
     "nuid": "4b80c156-c6e7-42b7-aac8-125a6d43619a",
     "showTitle": false,
     "title": ""
    }
   },
   "outputs": [
    {
     "output_type": "execute_result",
     "data": {
      "text/plain": [
       "<matplotlib.collections.PathCollection at 0x7f1a8d017340>"
      ]
     },
     "execution_count": 60,
     "metadata": {},
     "output_type": "execute_result"
    },
    {
     "output_type": "display_data",
     "data": {
      "image/png": "[encoded data removed]",
      "text/plain": [
       "<Figure size 640x480 with 1 Axes>"
      ]
     },
     "metadata": {},
     "output_type": "display_data"
    }
   ],
   "source": [
    "plt.scatter(X[:, 0], X[:, 1], marker = 'o', c = Y, edgecolor = 'k')"
   ]
  },
  {
   "cell_type": "markdown",
   "metadata": {
    "application/vnd.databricks.v1+cell": {
     "cellMetadata": {
      "byteLimit": 2048000,
      "rowLimit": 10000
     },
     "inputWidgets": {},
     "nuid": "be90fffa-26a4-48ab-930f-d2af10eff8ad",
     "showTitle": false,
     "title": ""
    }
   },
   "source": [
    "## nn.Squential"
   ]
  },
  {
   "cell_type": "markdown",
   "metadata": {
    "application/vnd.databricks.v1+cell": {
     "cellMetadata": {
      "byteLimit": 2048000,
      "rowLimit": 10000
     },
     "inputWidgets": {},
     "nuid": "f85b0994-e220-4e64-992b-7698e03167ce",
     "showTitle": false,
     "title": ""
    }
   },
   "source": [
    "* The **nn.Sequential** module is a container where multiple modules can be placed. When performing **Forward** on a Sequential object, it will sequentially apply the modules contained in it to generate an output."
   ]
  },
  {
   "cell_type": "code",
   "execution_count": 0,
   "metadata": {
    "application/vnd.databricks.v1+cell": {
     "cellMetadata": {
      "byteLimit": 2048000,
      "rowLimit": 10000
     },
     "inputWidgets": {},
     "nuid": "38bd21cc-1eeb-461c-8ac2-4e821d2e16b3",
     "showTitle": false,
     "title": ""
    }
   },
   "outputs": [
    {
     "output_type": "stream",
     "name": "stdout",
     "output_type": "stream",
     "text": [
      "Sequential(\n  (0): Linear(in_features=2, out_features=8, bias=True)\n  (1): ReLU()\n  (2): Linear(in_features=8, out_features=1, bias=True)\n)\n"
     ]
    }
   ],
   "source": [
    "# Input and output parameters\n",
    "input_size = 2\n",
    "hidden_size = 8\n",
    "output_size = 1\n",
    "\n",
    "# Net \n",
    "net = nn.Sequential(\n",
    "    # Hidden Layer(s)\n",
    "    nn.Linear(in_features = input_size, out_features = hidden_size, bias = True),\n",
    "    # Nonlinear Activation\n",
    "    nn.ReLU(),\n",
    "    # Output Layer\n",
    "    nn.Linear(in_features = hidden_size, out_features = output_size, bias = True)\n",
    ")\n",
    "# Note: The output of one layer is the input of another layer \n",
    "\n",
    "print(net)"
   ]
  },
  {
   "cell_type": "markdown",
   "metadata": {
    "application/vnd.databricks.v1+cell": {
     "cellMetadata": {
      "byteLimit": 2048000,
      "rowLimit": 10000
     },
     "inputWidgets": {},
     "nuid": "bdf6a687-fe1f-420a-853a-c35e25e1fa0c",
     "showTitle": false,
     "title": ""
    }
   },
   "source": [
    "## Torchsummary"
   ]
  },
  {
   "cell_type": "code",
   "execution_count": 0,
   "metadata": {
    "application/vnd.databricks.v1+cell": {
     "cellMetadata": {
      "byteLimit": 2048000,
      "rowLimit": 10000
     },
     "inputWidgets": {},
     "nuid": "804ba330-fc44-4a21-a3bb-a00e3777d9a9",
     "showTitle": false,
     "title": ""
    }
   },
   "outputs": [
    {
     "output_type": "stream",
     "name": "stdout",
     "output_type": "stream",
     "text": [
      "----------------------------------------------------------------\n        Layer (type)               Output Shape         Param #\n================================================================\n            Linear-1                 [-1, 1, 8]              24\n              ReLU-2                 [-1, 1, 8]               0\n            Linear-3                 [-1, 1, 1]               9\n================================================================\nTotal params: 33\nTrainable params: 33\nNon-trainable params: 0\n----------------------------------------------------------------\nInput size (MB): 0.00\nForward/backward pass size (MB): 0.00\nParams size (MB): 0.00\nEstimated Total Size (MB): 0.00\n----------------------------------------------------------------\n"
     ]
    }
   ],
   "source": [
    "summary(net, input_size = (1, input_size))"
   ]
  },
  {
   "cell_type": "markdown",
   "metadata": {
    "application/vnd.databricks.v1+cell": {
     "cellMetadata": {
      "byteLimit": 2048000,
      "rowLimit": 10000
     },
     "inputWidgets": {},
     "nuid": "3b766991-2a99-44a1-9544-95e5059128bc",
     "showTitle": false,
     "title": ""
    }
   },
   "source": [
    "## Forward"
   ]
  },
  {
   "cell_type": "code",
   "execution_count": 0,
   "metadata": {
    "application/vnd.databricks.v1+cell": {
     "cellMetadata": {
      "byteLimit": 2048000,
      "rowLimit": 10000
     },
     "inputWidgets": {},
     "nuid": "94b2e806-7bb9-4252-9f0b-a239e32b0dbd",
     "showTitle": false,
     "title": ""
    }
   },
   "outputs": [],
   "source": [
    "tensor = torch.from_numpy(X).float()\n",
    "pred = net(tensor)"
   ]
  },
  {
   "cell_type": "code",
   "execution_count": 0,
   "metadata": {
    "application/vnd.databricks.v1+cell": {
     "cellMetadata": {
      "byteLimit": 2048000,
      "rowLimit": 10000
     },
     "inputWidgets": {},
     "nuid": "a2bff25b-5967-4382-a24a-0eef55062749",
     "showTitle": false,
     "title": ""
    }
   },
   "outputs": [
    {
     "output_type": "stream",
     "name": "stdout",
     "output_type": "stream",
     "text": [
      "(300, 2)\n"
     ]
    }
   ],
   "source": [
    "# Data dimension\n",
    "print(X.shape)"
   ]
  },
  {
   "cell_type": "code",
   "execution_count": 0,
   "metadata": {
    "application/vnd.databricks.v1+cell": {
     "cellMetadata": {
      "byteLimit": 2048000,
      "rowLimit": 10000
     },
     "inputWidgets": {},
     "nuid": "5267200a-7038-4bbb-8b1d-a17131c2fa0d",
     "showTitle": false,
     "title": ""
    }
   },
   "outputs": [
    {
     "output_type": "stream",
     "name": "stdout",
     "output_type": "stream",
     "text": [
      "torch.Size([300, 1])\n"
     ]
    }
   ],
   "source": [
    "# Dimension of predictions\n",
    "print(pred.size())"
   ]
  },
  {
   "cell_type": "markdown",
   "metadata": {
    "application/vnd.databricks.v1+cell": {
     "cellMetadata": {
      "byteLimit": 2048000,
      "rowLimit": 10000
     },
     "inputWidgets": {},
     "nuid": "16d9dcd0-a415-4163-8cf1-bb39477a1ce2",
     "showTitle": false,
     "title": ""
    }
   },
   "source": [
    "## Assembling network model with Pytorch"
   ]
  },
  {
   "cell_type": "code",
   "execution_count": 0,
   "metadata": {
    "application/vnd.databricks.v1+cell": {
     "cellMetadata": {
      "byteLimit": 2048000,
      "rowLimit": 10000
     },
     "inputWidgets": {},
     "nuid": "5ab95603-e842-420b-8611-d9c70f36e295",
     "showTitle": false,
     "title": ""
    }
   },
   "outputs": [],
   "source": [
    "class NeuralNetwork(nn.Module):\n",
    "    \n",
    "    # Defining the model architecture\n",
    "    def __init__(self, input_size, hidden_size, output_size, bias = True):\n",
    "        # Initializing Superior Class\n",
    "        super(NeuralNetwork, self).__init__()\n",
    "\n",
    "        # Defining network layers\n",
    "        \n",
    "        self.hidden = nn.Linear(input_size, hidden_size, bias) # Hidden Layer(s)\n",
    "        self.relu = nn.ReLU() # Nonlinear Activation\n",
    "        self.output = nn.Linear(hidden_size, output_size, bias) # Output Layer\n",
    "\n",
    "    # Generate output from X\n",
    "    def forward(self, X):\n",
    "        hidden = self.relu(self.hidden(X))\n",
    "        output = self.output(hidden)\n",
    "\n",
    "        return output"
   ]
  },
  {
   "cell_type": "code",
   "execution_count": 0,
   "metadata": {
    "application/vnd.databricks.v1+cell": {
     "cellMetadata": {
      "byteLimit": 2048000,
      "rowLimit": 10000
     },
     "inputWidgets": {},
     "nuid": "28c21d33-3b39-40ca-b66b-f66ea11c564b",
     "showTitle": false,
     "title": ""
    }
   },
   "outputs": [
    {
     "output_type": "stream",
     "name": "stdout",
     "output_type": "stream",
     "text": [
      "NeuralNetwork(\n  (hidden): Linear(in_features=2, out_features=8, bias=True)\n  (relu): ReLU()\n  (output): Linear(in_features=8, out_features=1, bias=True)\n)\n"
     ]
    }
   ],
   "source": [
    "# Setting parameters\n",
    "input_size = 2\n",
    "hidden_size = 8\n",
    "output_size = 1\n",
    "\n",
    "# Adding available resources: GPU or CPU\n",
    "if torch.cuda.is_available():\n",
    "    device = torch.device('cuda')\n",
    "else: \n",
    "    device = torch.device('cpu')\n",
    "\n",
    "# Initializing network\n",
    "net = NeuralNetwork(input_size, hidden_size, output_size)\n",
    "net.to(device)\n",
    "print(net)\n",
    "\n",
    "# Forward\n",
    "tensor = torch.from_numpy(X).float()\n",
    "tensor.to(device)\n",
    "pred = net(tensor)"
   ]
  },
  {
   "cell_type": "code",
   "execution_count": 0,
   "metadata": {
    "application/vnd.databricks.v1+cell": {
     "cellMetadata": {
      "byteLimit": 2048000,
      "rowLimit": 10000
     },
     "inputWidgets": {},
     "nuid": "24d58080-3c2a-44bc-8da2-4c7a67ddbf40",
     "showTitle": false,
     "title": ""
    }
   },
   "outputs": [
    {
     "output_type": "stream",
     "name": "stdout",
     "output_type": "stream",
     "text": [
      "cpu\ntorch.Size([300, 1])\n"
     ]
    }
   ],
   "source": [
    "print(device)\n",
    "print(pred.size())"
   ]
  }
 ],
 "metadata": {
  "application/vnd.databricks.v1+notebook": {
   "dashboards": [],
   "language": "python",
   "notebookMetadata": {
    "pythonIndentUnit": 4
   },
   "notebookName": "Deep_Learning_with_Pytorch*",
   "widgets": {}
  }
 },
 "nbformat": 4,
 "nbformat_minor": 0
}
